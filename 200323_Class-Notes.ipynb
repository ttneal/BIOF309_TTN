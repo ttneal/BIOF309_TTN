{
 "cells": [
  {
   "cell_type": "code",
   "execution_count": 1,
   "metadata": {},
   "outputs": [
    {
     "data": {
      "text/html": [
       "<div>\n",
       "<style scoped>\n",
       "    .dataframe tbody tr th:only-of-type {\n",
       "        vertical-align: middle;\n",
       "    }\n",
       "\n",
       "    .dataframe tbody tr th {\n",
       "        vertical-align: top;\n",
       "    }\n",
       "\n",
       "    .dataframe thead th {\n",
       "        text-align: right;\n",
       "    }\n",
       "</style>\n",
       "<table border=\"1\" class=\"dataframe\">\n",
       "  <thead>\n",
       "    <tr style=\"text-align: right;\">\n",
       "      <th></th>\n",
       "      <th>first_name</th>\n",
       "      <th>last_name</th>\n",
       "      <th>job_title</th>\n",
       "      <th>hire_date</th>\n",
       "      <th>Contact_number</th>\n",
       "    </tr>\n",
       "  </thead>\n",
       "  <tbody>\n",
       "    <tr>\n",
       "      <td>1</td>\n",
       "      <td>Andrea</td>\n",
       "      <td>Ramirez</td>\n",
       "      <td>Programmer</td>\n",
       "      <td>1995</td>\n",
       "      <td>544-342</td>\n",
       "    </tr>\n",
       "    <tr>\n",
       "      <td>2</td>\n",
       "      <td>Pedro</td>\n",
       "      <td>Villamediana</td>\n",
       "      <td>Programmer</td>\n",
       "      <td>1985</td>\n",
       "      <td>555-849</td>\n",
       "    </tr>\n",
       "    <tr>\n",
       "      <td>3</td>\n",
       "      <td>Vicente</td>\n",
       "      <td>Ostos</td>\n",
       "      <td>Programmer</td>\n",
       "      <td>1974</td>\n",
       "      <td>462-245</td>\n",
       "    </tr>\n",
       "  </tbody>\n",
       "</table>\n",
       "</div>"
      ],
      "text/plain": [
       "  first_name     last_name   job_title  hire_date Contact_number\n",
       "1     Andrea       Ramirez  Programmer       1995        544-342\n",
       "2      Pedro  Villamediana  Programmer       1985        555-849\n",
       "3    Vicente         Ostos  Programmer       1974        462-245"
      ]
     },
     "execution_count": 1,
     "metadata": {},
     "output_type": "execute_result"
    }
   ],
   "source": [
    "import numpy as np\n",
    "import pandas as pd\n",
    "\n",
    "new_york = pd.DataFrame(\n",
    "    {\n",
    "        'first_name': ['Bill', 'Meghan', 'Peter', 'Carlos', 'Milton', 'Bob', 'Bob'],\n",
    "        'last_name': ['Lumbergh', 'Elliott', 'Gibbons', 'Garcia', 'waddams', 'Porter', 'Slydell'],\n",
    "        'job_title': ['Manager', 'Programmer', 'Programmer', 'Programmer', 'Collator', 'Consultant', 'Consultant'],\n",
    "        'hire_date': [1985, 1989, 1989, 1974, 1989, 1974, 1999],\n",
    "        'Contact_number': ['555-245', '544-235', '555-234', '988-224', '876-244', '874-244', '789-764'],\n",
    "    }\n",
    ")\n",
    "washington = pd.DataFrame(\n",
    "    {\n",
    "        'first_name': ['Gerardo', 'Andrea', 'Pedro', 'Vicente', 'Luis', 'Ramon', 'Geral'],\n",
    "        'last_name': ['Perez', 'Ramirez', 'Villamediana', 'Ostos', 'Escalante', 'Elliott', 'Shome'],\n",
    "        'job_title': ['Manager', 'Programmer', 'Programmer', 'Programmer', 'Collator', 'Consultant', 'Consultant'],\n",
    "        'hire_date': [1985, 1995, 1985, 1974, 1974, 1985, 1999],\n",
    "        'Contact_number': ['563-245', '544-342', '555-849', '462-245', '246-234', '264-536', '246-245'],\n",
    "    }\n",
    ")\n",
    "\n",
    "\n",
    "def search_col(df, colname, query):\n",
    "    return df[df[colname].str.contains(query)]\n",
    "\n",
    "\n",
    "search_col(washington, \"job_title\", \"Prog\")\n",
    "\n",
    "\n",
    "def search_cols(df, query):\n",
    "    return df[\n",
    "        df.apply(\n",
    "            lambda row: row.astype(str).str.contains(query).any(),\n",
    "            axis=1\n",
    "        )]\n",
    "\n",
    "\n",
    "search_cols(washington, \"Prog\")"
   ]
  },
  {
   "cell_type": "code",
   "execution_count": 5,
   "metadata": {},
   "outputs": [
    {
     "data": {
      "text/plain": [
       "[4, 5, 6, 7, 8]"
      ]
     },
     "execution_count": 5,
     "metadata": {},
     "output_type": "execute_result"
    }
   ],
   "source": [
    "#Instantiation\n",
    "#seld.data is the only attribute in this example\n",
    "class MyList:\n",
    "    def __init__(self,data):\n",
    "       self.data = data\n",
    "        \n",
    "    def head(self, n=5):\n",
    "        return self.data[:n]\n",
    "    \n",
    "    def tail(self, n=5):\n",
    "        return self.data[-n:]\n",
    "    \n",
    "ml = MyList(list(range(9)))\n",
    "\n",
    "ml.head()\n",
    "ml.tail()"
   ]
  },
  {
   "cell_type": "code",
   "execution_count": null,
   "metadata": {},
   "outputs": [],
   "source": []
  }
 ],
 "metadata": {
  "kernelspec": {
   "display_name": "Python 3",
   "language": "python",
   "name": "python3"
  },
  "language_info": {
   "codemirror_mode": {
    "name": "ipython",
    "version": 3
   },
   "file_extension": ".py",
   "mimetype": "text/x-python",
   "name": "python",
   "nbconvert_exporter": "python",
   "pygments_lexer": "ipython3",
   "version": "3.7.4"
  }
 },
 "nbformat": 4,
 "nbformat_minor": 4
}
