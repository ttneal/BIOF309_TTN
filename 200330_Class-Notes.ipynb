{
 "cells": [
  {
   "cell_type": "code",
   "execution_count": 23,
   "metadata": {},
   "outputs": [],
   "source": [
    "# What is a class? \n",
    "# -template or blueprint for a brand new type of Python object\n",
    "\n",
    "# What do you do with classes?\n",
    "# -Define\n",
    "# -Instantiate\n",
    "# -Call the instance's methods\n",
    "\n",
    "# Types of attributes in class definition:\n",
    "# -Class\n",
    "# -Instance"
   ]
  },
  {
   "cell_type": "code",
   "execution_count": 3,
   "metadata": {},
   "outputs": [],
   "source": [
    "z = []\n",
    "for i in range(9):\n",
    "    z.append(i)"
   ]
  },
  {
   "cell_type": "code",
   "execution_count": 4,
   "metadata": {},
   "outputs": [],
   "source": [
    "z = list(range(9))"
   ]
  },
  {
   "cell_type": "code",
   "execution_count": 5,
   "metadata": {},
   "outputs": [],
   "source": [
    "class Student:\n",
    "    \"\"\"An abstract representation of a student.\n",
    "\n",
    "    Attributes:\n",
    "        name: The name of a specific student.\n",
    "    \"\"\""
   ]
  },
  {
   "cell_type": "code",
   "execution_count": 6,
   "metadata": {},
   "outputs": [],
   "source": [
    "martin = Student"
   ]
  },
  {
   "cell_type": "code",
   "execution_count": 7,
   "metadata": {},
   "outputs": [],
   "source": [
    "martin.name = \"Martin\""
   ]
  },
  {
   "cell_type": "code",
   "execution_count": 8,
   "metadata": {},
   "outputs": [
    {
     "data": {
      "text/plain": [
       "'Martin'"
      ]
     },
     "execution_count": 8,
     "metadata": {},
     "output_type": "execute_result"
    }
   ],
   "source": [
    "martin.name"
   ]
  },
  {
   "cell_type": "code",
   "execution_count": 9,
   "metadata": {},
   "outputs": [
    {
     "data": {
      "text/plain": [
       "'Martin'"
      ]
     },
     "execution_count": 9,
     "metadata": {},
     "output_type": "execute_result"
    }
   ],
   "source": [
    "Student.name"
   ]
  },
  {
   "cell_type": "code",
   "execution_count": 10,
   "metadata": {},
   "outputs": [],
   "source": [
    "# We want martin.name to refer to martin, not the general student.name.\n",
    "# Student is meant to be a new *type* of object, while martin is meant to be a specifc object of that type"
   ]
  },
  {
   "cell_type": "code",
   "execution_count": 11,
   "metadata": {},
   "outputs": [
    {
     "data": {
      "text/plain": [
       "__main__.Student"
      ]
     },
     "execution_count": 11,
     "metadata": {},
     "output_type": "execute_result"
    }
   ],
   "source": [
    "martin"
   ]
  },
  {
   "cell_type": "code",
   "execution_count": 19,
   "metadata": {},
   "outputs": [],
   "source": [
    "# not instantiated class without dunder, which tells Python its a special method"
   ]
  },
  {
   "cell_type": "code",
   "execution_count": 21,
   "metadata": {},
   "outputs": [],
   "source": [
    "class Student:\n",
    "    \"\"\"An abstract representation of a student.\n",
    "\n",
    "    Attributes:\n",
    "        name: The name of a specific student.\n",
    "    \"\"\"\n",
    "    # Class variable\n",
    "    def __init__(self, name):\n",
    "        self.name = name\n",
    "        # Instance variable\n",
    "        # __init__ turns \"self\" into its own instantiation (in this case Martin) and then creates .attributes for it"
   ]
  },
  {
   "cell_type": "code",
   "execution_count": 20,
   "metadata": {},
   "outputs": [],
   "source": [
    "# Instantiation\n",
    "martin = Student(\"Martin\")"
   ]
  },
  {
   "cell_type": "code",
   "execution_count": 16,
   "metadata": {},
   "outputs": [
    {
     "data": {
      "text/plain": [
       "'Martin'"
      ]
     },
     "execution_count": 16,
     "metadata": {},
     "output_type": "execute_result"
    }
   ],
   "source": [
    "martin.name"
   ]
  },
  {
   "cell_type": "code",
   "execution_count": 17,
   "metadata": {},
   "outputs": [
    {
     "ename": "AttributeError",
     "evalue": "type object 'Student' has no attribute 'name'",
     "output_type": "error",
     "traceback": [
      "\u001b[0;31m---------------------------------------------------------------------------\u001b[0m",
      "\u001b[0;31mAttributeError\u001b[0m                            Traceback (most recent call last)",
      "\u001b[0;32m<ipython-input-17-11d6f99f8081>\u001b[0m in \u001b[0;36m<module>\u001b[0;34m\u001b[0m\n\u001b[0;32m----> 1\u001b[0;31m \u001b[0mStudent\u001b[0m\u001b[0;34m.\u001b[0m\u001b[0mname\u001b[0m\u001b[0;34m\u001b[0m\u001b[0;34m\u001b[0m\u001b[0m\n\u001b[0m",
      "\u001b[0;31mAttributeError\u001b[0m: type object 'Student' has no attribute 'name'"
     ]
    }
   ],
   "source": [
    "Student.name"
   ]
  },
  {
   "cell_type": "code",
   "execution_count": 18,
   "metadata": {},
   "outputs": [],
   "source": [
    "# Instances store data, not the class"
   ]
  },
  {
   "cell_type": "code",
   "execution_count": 24,
   "metadata": {},
   "outputs": [
    {
     "ename": "AttributeError",
     "evalue": "type object 'Employee' has no attribute 'gpa_list'",
     "output_type": "error",
     "traceback": [
      "\u001b[0;31m---------------------------------------------------------------------------\u001b[0m",
      "\u001b[0;31mAttributeError\u001b[0m                            Traceback (most recent call last)",
      "\u001b[0;32m<ipython-input-24-c1287d35e91b>\u001b[0m in \u001b[0;36m<module>\u001b[0;34m\u001b[0m\n\u001b[1;32m     30\u001b[0m         )\n\u001b[1;32m     31\u001b[0m \u001b[0;34m\u001b[0m\u001b[0m\n\u001b[0;32m---> 32\u001b[0;31m \u001b[0mwill\u001b[0m \u001b[0;34m=\u001b[0m \u001b[0mEmployee\u001b[0m\u001b[0;34m(\u001b[0m\u001b[0;34m\"William\"\u001b[0m\u001b[0;34m,\u001b[0m \u001b[0msalary\u001b[0m\u001b[0;34m=\u001b[0m\u001b[0;36m4.0\u001b[0m\u001b[0;34m)\u001b[0m\u001b[0;34m\u001b[0m\u001b[0;34m\u001b[0m\u001b[0m\n\u001b[0m\u001b[1;32m     33\u001b[0m \u001b[0mmartin\u001b[0m \u001b[0;34m=\u001b[0m \u001b[0mEmployee\u001b[0m\u001b[0;34m(\u001b[0m\u001b[0;34m\"Martin\"\u001b[0m\u001b[0;34m,\u001b[0m \u001b[0msalary\u001b[0m\u001b[0;34m=\u001b[0m\u001b[0;36m3.2\u001b[0m\u001b[0;34m)\u001b[0m\u001b[0;34m\u001b[0m\u001b[0;34m\u001b[0m\u001b[0m\n\u001b[1;32m     34\u001b[0m \u001b[0;34m\u001b[0m\u001b[0m\n",
      "\u001b[0;32m<ipython-input-24-c1287d35e91b>\u001b[0m in \u001b[0;36m__init__\u001b[0;34m(self, name, salary)\u001b[0m\n\u001b[1;32m     26\u001b[0m         \u001b[0mself\u001b[0m\u001b[0;34m.\u001b[0m\u001b[0m__class__\u001b[0m\u001b[0;34m.\u001b[0m\u001b[0msalary_list\u001b[0m\u001b[0;34m.\u001b[0m\u001b[0mappend\u001b[0m\u001b[0;34m(\u001b[0m\u001b[0msalary\u001b[0m\u001b[0;34m)\u001b[0m\u001b[0;34m\u001b[0m\u001b[0;34m\u001b[0m\u001b[0m\n\u001b[1;32m     27\u001b[0m         self.__class__.mean_salary = (\n\u001b[0;32m---> 28\u001b[0;31m                 \u001b[0msum\u001b[0m\u001b[0;34m(\u001b[0m\u001b[0mself\u001b[0m\u001b[0;34m.\u001b[0m\u001b[0m__class__\u001b[0m\u001b[0;34m.\u001b[0m\u001b[0mgpa_list\u001b[0m\u001b[0;34m)\u001b[0m \u001b[0;34m/\u001b[0m\u001b[0;34m\u001b[0m\u001b[0;34m\u001b[0m\u001b[0m\n\u001b[0m\u001b[1;32m     29\u001b[0m                 \u001b[0mlen\u001b[0m\u001b[0;34m(\u001b[0m\u001b[0mself\u001b[0m\u001b[0;34m.\u001b[0m\u001b[0m__class__\u001b[0m\u001b[0;34m.\u001b[0m\u001b[0mgpa_list\u001b[0m\u001b[0;34m)\u001b[0m\u001b[0;34m\u001b[0m\u001b[0;34m\u001b[0m\u001b[0m\n\u001b[1;32m     30\u001b[0m         )\n",
      "\u001b[0;31mAttributeError\u001b[0m: type object 'Employee' has no attribute 'gpa_list'"
     ]
    }
   ],
   "source": [
    "class Employee:\n",
    "    \"\"\"An abstract representation of a employee.\n",
    "\n",
    "    Attributes:\n",
    "        employee_count: A running tally of employees.\n",
    "        employee_list: A list of the names of all employees.\n",
    "        salary_list: A list of salaries for all employees.\n",
    "        mean_salary: The average salary for all employees.\n",
    "        name: The name of a specific employee\n",
    "        salary: The salary of a specific employee\n",
    "    \"\"\"\n",
    "    # Class variables\n",
    "    # acessible by classes and their instances \n",
    "    employee_count = 0\n",
    "    employee_list = []\n",
    "    salary_list = []\n",
    "    mean_salary = 0 \n",
    "\n",
    "    def __init__(self, name, salary): #should always start with self--self represents the instance \n",
    "        # Instance attributes\n",
    "        self.name = name \n",
    "        self.salary = salary\n",
    "        # Modifying class attributes\n",
    "        self.__class__.employee_count += 1\n",
    "        self.__class__.employee_list.append(name)\n",
    "        self.__class__.salary_list.append(salary)\n",
    "        self.__class__.mean_salary = (\n",
    "                sum(self.__class__.gpa_list) /\n",
    "                len(self.__class__.gpa_list)\n",
    "        )\n",
    "\n",
    "will = Employee(\"William\", salary=4.0)\n",
    "martin = Employee(\"Martin\", salary=3.2)\n",
    "\n",
    "will.salary\n",
    "\n",
    "Employee.salary"
   ]
  },
  {
   "cell_type": "code",
   "execution_count": 27,
   "metadata": {},
   "outputs": [],
   "source": [
    "class Employee:\n",
    "    \"\"\"An abstract representation of a employee.\n",
    "\n",
    "    Attributes:\n",
    "        employee_count: A running tally of employees.\n",
    "        employee_list: A list of the names of all employees.\n",
    "        salary_list: A list of salaries for all employees.\n",
    "        mean_salary: The average salary for all employees.\n",
    "        name: The name of a specific employee\n",
    "        salary: The salary of a specific employee\n",
    "    \"\"\"\n",
    "    # Class variables\n",
    "    # acessible by classes and their instances \n",
    "    employee_count = 0\n",
    "    employee_list = []\n",
    "    salary_list = []\n",
    "    mean_salary = 0 \n",
    "\n",
    "    def __init__(self, name, salary): #should always start with self--self represents the instance \n",
    "        # Instance attributes\n",
    "        self.name = name \n",
    "        self.salary = salary\n",
    "        # Modifying class attributes\n",
    "        self.__class__.employee_count += 1\n",
    "        self.__class__.employee_list.append(name)\n",
    "        self.__class__.salary_list.append(salary)\n",
    "        self.__class__.mean_salary = (\n",
    "                sum(self.__class__.salary_list) /\n",
    "                len(self.__class__.salary_list)\n",
    "        )"
   ]
  },
  {
   "cell_type": "code",
   "execution_count": 28,
   "metadata": {},
   "outputs": [],
   "source": [
    "will = Employee(\"William\", salary=40000)"
   ]
  },
  {
   "cell_type": "code",
   "execution_count": 29,
   "metadata": {},
   "outputs": [],
   "source": [
    "martin = Employee(\"Martin\", salary=32000)"
   ]
  },
  {
   "cell_type": "code",
   "execution_count": 30,
   "metadata": {},
   "outputs": [
    {
     "data": {
      "text/plain": [
       "'William'"
      ]
     },
     "execution_count": 30,
     "metadata": {},
     "output_type": "execute_result"
    }
   ],
   "source": [
    "will.name"
   ]
  },
  {
   "cell_type": "code",
   "execution_count": 31,
   "metadata": {},
   "outputs": [
    {
     "data": {
      "text/plain": [
       "'Martin'"
      ]
     },
     "execution_count": 31,
     "metadata": {},
     "output_type": "execute_result"
    }
   ],
   "source": [
    "martin.name"
   ]
  },
  {
   "cell_type": "code",
   "execution_count": 32,
   "metadata": {},
   "outputs": [
    {
     "data": {
      "text/plain": [
       "2"
      ]
     },
     "execution_count": 32,
     "metadata": {},
     "output_type": "execute_result"
    }
   ],
   "source": [
    "Employee.employee_count"
   ]
  },
  {
   "cell_type": "code",
   "execution_count": 33,
   "metadata": {},
   "outputs": [
    {
     "data": {
      "text/plain": [
       "['William', 'Martin']"
      ]
     },
     "execution_count": 33,
     "metadata": {},
     "output_type": "execute_result"
    }
   ],
   "source": [
    "Employee.employee_list"
   ]
  },
  {
   "cell_type": "code",
   "execution_count": 34,
   "metadata": {},
   "outputs": [
    {
     "data": {
      "text/plain": [
       "[40000, 32000]"
      ]
     },
     "execution_count": 34,
     "metadata": {},
     "output_type": "execute_result"
    }
   ],
   "source": [
    "Employee.salary_list"
   ]
  },
  {
   "cell_type": "code",
   "execution_count": 35,
   "metadata": {},
   "outputs": [
    {
     "data": {
      "text/plain": [
       "40000"
      ]
     },
     "execution_count": 35,
     "metadata": {},
     "output_type": "execute_result"
    }
   ],
   "source": [
    "will.salary"
   ]
  },
  {
   "cell_type": "code",
   "execution_count": 36,
   "metadata": {},
   "outputs": [
    {
     "ename": "AttributeError",
     "evalue": "type object 'Employee' has no attribute 'salary'",
     "output_type": "error",
     "traceback": [
      "\u001b[0;31m---------------------------------------------------------------------------\u001b[0m",
      "\u001b[0;31mAttributeError\u001b[0m                            Traceback (most recent call last)",
      "\u001b[0;32m<ipython-input-36-58b66fb808e4>\u001b[0m in \u001b[0;36m<module>\u001b[0;34m\u001b[0m\n\u001b[0;32m----> 1\u001b[0;31m \u001b[0mEmployee\u001b[0m\u001b[0;34m.\u001b[0m\u001b[0msalary\u001b[0m\u001b[0;34m\u001b[0m\u001b[0;34m\u001b[0m\u001b[0m\n\u001b[0m",
      "\u001b[0;31mAttributeError\u001b[0m: type object 'Employee' has no attribute 'salary'"
     ]
    }
   ],
   "source": [
    "Employee.salary"
   ]
  },
  {
   "cell_type": "code",
   "execution_count": 37,
   "metadata": {},
   "outputs": [
    {
     "data": {
      "text/plain": [
       "36000.0"
      ]
     },
     "execution_count": 37,
     "metadata": {},
     "output_type": "execute_result"
    }
   ],
   "source": [
    "Employee.mean_salary"
   ]
  },
  {
   "cell_type": "code",
   "execution_count": 41,
   "metadata": {},
   "outputs": [],
   "source": [
    "class Employee:\n",
    "    \"\"\"An abstract representation of a employee.\n",
    "\n",
    "    Attributes:\n",
    "        employee_count: A running tally of employees.\n",
    "        employee_list: A list of the names of all employees.\n",
    "        salary_list: A list of salaries for all employees.\n",
    "        mean_salary: The average salary for all employees.\n",
    "        name: The name of a specific employee\n",
    "        salary: The salary of a specific employee\n",
    "    \"\"\"\n",
    "    # Class variables\n",
    "    # acessible by classes and their instances \n",
    "    employee_count = 0\n",
    "    employee_list = []\n",
    "    salary_list = []\n",
    "    mean_salary = 0 \n",
    "\n",
    "    def __init__(self, name, salary): #should always start with self--self represents the instance \n",
    "        # Instance attributes\n",
    "        self.name = name \n",
    "        self.salary = salary\n",
    "        # Modifying class attributes\n",
    "        self.__class__.employee_count += 1\n",
    "        self.__class__.employee_list.append(name)\n",
    "        self.__class__.salary_list.append(salary)\n",
    "    def get_mean_salary(self):\n",
    "        self.__class__.mean_salary = (\n",
    "                sum(self.__class__.salary_list) /\n",
    "                len(self.__class__.salary_list)\n",
    "        )\n",
    "        return self.__class__.mean_salary"
   ]
  },
  {
   "cell_type": "code",
   "execution_count": 43,
   "metadata": {},
   "outputs": [],
   "source": [
    "class Employee:\n",
    "    \"\"\"An abstract representation of a employee.\n",
    "\n",
    "    Attributes:\n",
    "        employee_count: A running tally of employees.\n",
    "        employee_list: A list of the names of all employees.\n",
    "        salary_list: A list of salaries for all employees.\n",
    "        mean_salary: The average salary for all employees.\n",
    "        name: The name of a specific employee\n",
    "        salary: The salary of a specific employee\n",
    "    \"\"\"\n",
    "    # Class variables\n",
    "    # acessible by classes and their instances \n",
    "    employee_count = 0\n",
    "    employee_list = []\n",
    "    salary_list = []\n",
    "\n",
    "    def __init__(self, name, salary): #should always start with self--self represents the instance \n",
    "        # Instance attributes\n",
    "        self.name = name \n",
    "        self.salary = salary\n",
    "        # Modifying class attributes\n",
    "        self.__class__.employee_count += 1\n",
    "        self.__class__.employee_list.append(name)\n",
    "        self.__class__.salary_list.append(salary)\n",
    "    def mean_salary(self):\n",
    "        \"\"\"Docstring\"\"\"\n",
    "        return(\n",
    "            sum(self._class_.salary_list) / \n",
    "            len(self._class_.salary_list)\n",
    "        )"
   ]
  },
  {
   "cell_type": "code",
   "execution_count": 44,
   "metadata": {},
   "outputs": [],
   "source": [
    "will = Employee(\"William\", 40000)"
   ]
  },
  {
   "cell_type": "code",
   "execution_count": 45,
   "metadata": {},
   "outputs": [
    {
     "data": {
      "text/plain": [
       "<function __main__.Employee.mean_salary(self)>"
      ]
     },
     "execution_count": 45,
     "metadata": {},
     "output_type": "execute_result"
    }
   ],
   "source": [
    "Employee.mean_salary"
   ]
  },
  {
   "cell_type": "code",
   "execution_count": 2,
   "metadata": {},
   "outputs": [],
   "source": [
    "class Employee:\n",
    "    \"\"\"An abstract representation of a employee.\n",
    "\n",
    "    Attributes:\n",
    "        employee_count: A running tally of employees.\n",
    "        employee_list: A list of the names of all employees.\n",
    "        salary_list: A list of salaries for all employees.\n",
    "        mean_salary: The average salary for all employees.\n",
    "        name: The name of a specific employee\n",
    "        salary: The salary of a specific employee\n",
    "    \"\"\"\n",
    "    # Class variables\n",
    "    # acessible by classes and their instances \n",
    "    employee_count = 0\n",
    "    employee_list = []\n",
    "    salary_list = []\n",
    "\n",
    "    \n",
    "    # Instance method: Access to self and class via __class__\n",
    "    def __init__(self, name, salary): #should always start with self--self represents the instance \n",
    "        # Instance attributes\n",
    "        self.name = name \n",
    "        self.salary = salary\n",
    "        # Modifying class attributes\n",
    "        self.__class__.employee_count += 1\n",
    "        self.__class__.employee_list.append(name)\n",
    "        self.__class__.salary_list.append(salary)\n",
    "    \n",
    "    # Class method: Access to class, same thing as self._class_\n",
    "    def get_mean_salary(cls):\n",
    "        \"\"\"Docstring\"\"\"\n",
    "        sl = cls.salary_list\n",
    "        if sl:\n",
    "            return sum(sl) / len(sl)\n",
    "        \n",
    "    # Static method: Cannot access self or class\n",
    "    # Does not need self or cls as first argument\n",
    "    def add_two_numbers(x,y):\n",
    "        \"\"\"Docstring\"\"\"\n",
    "        return x + y\n",
    "    \n",
    "    # Property: Does not accept any arguments\n",
    "    # Uses self, but self is passed automatically\n",
    "    # Don't have to use parenthases\n",
    "    # Not run automatically, don't save any information into class or object you're working with, just returns value\n",
    "    def prop_mean_salary(self):\n",
    "        \"\"\"Docstring\"\"\"\n",
    "        sl = cls.salary_list\n",
    "        if sl:\n",
    "            return sum(sl) / len(sl)"
   ]
  },
  {
   "cell_type": "code",
   "execution_count": 48,
   "metadata": {},
   "outputs": [],
   "source": [
    "# 4 Types of Methods\n",
    "# -Instance\n",
    "# -Class\n",
    "# -Static\n",
    "# -Property"
   ]
  },
  {
   "cell_type": "code",
   "execution_count": 49,
   "metadata": {},
   "outputs": [
    {
     "ename": "AttributeError",
     "evalue": "type object 'Employee' has no attribute 'instantiate'",
     "output_type": "error",
     "traceback": [
      "\u001b[0;31m---------------------------------------------------------------------------\u001b[0m",
      "\u001b[0;31mAttributeError\u001b[0m                            Traceback (most recent call last)",
      "\u001b[0;32m<ipython-input-49-38b4d566c36a>\u001b[0m in \u001b[0;36m<module>\u001b[0;34m\u001b[0m\n\u001b[0;32m----> 1\u001b[0;31m \u001b[0mwill\u001b[0m\u001b[0;34m,\u001b[0m \u001b[0mmartin\u001b[0m \u001b[0;34m=\u001b[0m \u001b[0mEmployee\u001b[0m\u001b[0;34m.\u001b[0m\u001b[0minstantiate\u001b[0m\u001b[0;34m(\u001b[0m\u001b[0;34m[\u001b[0m\u001b[0;34m(\u001b[0m\u001b[0;34m\"William\"\u001b[0m\u001b[0;34m,\u001b[0m \u001b[0;36m40000\u001b[0m\u001b[0;34m)\u001b[0m\u001b[0;34m,\u001b[0m \u001b[0;34m(\u001b[0m\u001b[0;34m\"Martin\"\u001b[0m\u001b[0;34m,\u001b[0m \u001b[0;36m32000\u001b[0m\u001b[0;34m)\u001b[0m\u001b[0;34m]\u001b[0m\u001b[0;34m)\u001b[0m\u001b[0;34m\u001b[0m\u001b[0;34m\u001b[0m\u001b[0m\n\u001b[0m",
      "\u001b[0;31mAttributeError\u001b[0m: type object 'Employee' has no attribute 'instantiate'"
     ]
    }
   ],
   "source": [
    "will, martin = Employee.instantiate([(\"William\", 40000), (\"Martin\", 32000)])"
   ]
  },
  {
   "cell_type": "code",
   "execution_count": null,
   "metadata": {},
   "outputs": [],
   "source": []
  }
 ],
 "metadata": {
  "kernelspec": {
   "display_name": "Python 3",
   "language": "python",
   "name": "python3"
  },
  "language_info": {
   "codemirror_mode": {
    "name": "ipython",
    "version": 3
   },
   "file_extension": ".py",
   "mimetype": "text/x-python",
   "name": "python",
   "nbconvert_exporter": "python",
   "pygments_lexer": "ipython3",
   "version": "3.7.4"
  }
 },
 "nbformat": 4,
 "nbformat_minor": 4
}
