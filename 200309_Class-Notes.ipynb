{
 "cells": [
  {
   "cell_type": "code",
   "execution_count": 1,
   "metadata": {},
   "outputs": [
    {
     "ename": "NameError",
     "evalue": "name 'mystr' is not defined",
     "output_type": "error",
     "traceback": [
      "\u001b[0;31m---------------------------------------------------------------------------\u001b[0m",
      "\u001b[0;31mNameError\u001b[0m                                 Traceback (most recent call last)",
      "\u001b[0;32m<ipython-input-1-aeb5abc22846>\u001b[0m in \u001b[0;36m<module>\u001b[0;34m\u001b[0m\n\u001b[1;32m     44\u001b[0m \u001b[0;34m\u001b[0m\u001b[0m\n\u001b[1;32m     45\u001b[0m \u001b[0;31m# Combine two methods in a horizontal method chain\u001b[0m\u001b[0;34m\u001b[0m\u001b[0;34m\u001b[0m\u001b[0;34m\u001b[0m\u001b[0m\n\u001b[0;32m---> 46\u001b[0;31m \u001b[0mmystr\u001b[0m\u001b[0;34m.\u001b[0m\u001b[0msplit\u001b[0m\u001b[0;34m(\u001b[0m\u001b[0;34m)\u001b[0m\u001b[0;34m.\u001b[0m\u001b[0mindex\u001b[0m\u001b[0;34m(\u001b[0m\u001b[0;34m\"words\"\u001b[0m\u001b[0;34m)\u001b[0m\u001b[0;34m\u001b[0m\u001b[0;34m\u001b[0m\u001b[0m\n\u001b[0m\u001b[1;32m     47\u001b[0m \u001b[0;34m\u001b[0m\u001b[0m\n\u001b[1;32m     48\u001b[0m \u001b[0;31m# Wrap with parentheses to chain methods vertically\u001b[0m\u001b[0;34m\u001b[0m\u001b[0;34m\u001b[0m\u001b[0;34m\u001b[0m\u001b[0m\n",
      "\u001b[0;31mNameError\u001b[0m: name 'mystr' is not defined"
     ]
    }
   ],
   "source": [
    "# Strings\n",
    "# Regular strings\n",
    "\"I recommend using double-quoted strings,\"\n",
    "\"so you don't have to use backslash (\\)\"\n",
    "\"to escape apostrophes (').\"\n",
    "\n",
    "'This string won\\'t work without a backslash.'\n",
    "\n",
    "\"\"\"Docstrings,\n",
    "strings that are surround by three pairs of quotes,\n",
    "allow you to write across multiple lines.\n",
    "\"\"\"\n",
    "\n",
    "(\n",
    "    \"You can also put multiple strings \"\n",
    "    \"inside of parentheses and \"\n",
    "    \"Python will put them together for you!\"\n",
    ")\n",
    "\n",
    "# Use f-strings to insert code into strings\n",
    "my_var = [1, 2, 3]\n",
    "f\"The value of my_var is {my_var}.\"\n",
    "\n",
    "# Names\n",
    "# Variable names should be written in snake_case\n",
    "my_var = [1, 2, 3]\n",
    "my_var = \"Variables can change\"\n",
    "\n",
    "def my_func():\n",
    "    \"\"\"Function names should also be snake_case.\"\"\"\n",
    "\n",
    "# Constants, variables that we don't plan on modifying,\n",
    "# should be written in SCREAMING_SNAKE_CASE\n",
    "ALWAYS_FIVE = 5\n",
    "\n",
    "# kebab-case works only in strings, not variable names\n",
    "my_str = \"kebab-case\"\n",
    "\n",
    "# Assign three variables in a row\n",
    "x = y = z = 3\n",
    "\n",
    "# Create a string\n",
    "my_str = \"a few words in a string\"\n",
    "\n",
    "# Combine two methods in a horizontal method chain\n",
    "mystr.split().index(\"words\")\n",
    "\n",
    "# Wrap with parentheses to chain methods vertically\n",
    "(mystr\n",
    " .split()\n",
    " .index(\"words\")\n",
    ")\n",
    "\n",
    "# Create a word list\n",
    "word_list = my_str.split()\n",
    "\n",
    "# Replace the first word with !\n",
    "mylist[0] = \"!\"\n",
    "mylist\n",
    "\n",
    "# For loops\n",
    "# When to write for loop:\n",
    "# 1. Not creating a Python object (creating a file)\n",
    "# 2. When you are translating math into code (e.g. summation using +=)\n",
    "\n",
    "for i in range(1, 9):\n",
    "    print(i)\n",
    "    y *= i\n",
    "    print(y)\n",
    "\n",
    "for huzzah in range(4):\n",
    "    print(huzzah <= 1)\n",
    "\n",
    "import pathlib\n",
    "\n",
    "for i in range(9):\n",
    "    pathlib.Path(\n",
    "        f\"test{i}.txt\"\n",
    "    ).write_text(\n",
    "        f\"This is file {i}.\"\n",
    "    )\n",
    "\n",
    "# Functions\n",
    "# When to write a function:\n",
    "# 1. Always!\n",
    "# 2. Whenever you might need to reuse code\n",
    "# 3. When you want to abstract away complex code\n",
    "# 4. When you want to document your code (be a good human being)\n",
    "\n",
    "# Define a function called word_count\n",
    "def word_count(string: str):\n",
    "    \"\"\"Count the words in a string.\n",
    "\n",
    "    Arguments:\n",
    "        string: A string that contains words.\n",
    "\n",
    "    Returns:\n",
    "        int: The number of words in the input string.\n",
    "\n",
    "    \"\"\"\n",
    "    word_list = string.split()\n",
    "    return len(word_list)\n",
    "\n",
    "print(word_count.__doc__)\n",
    "print(word_count.__annotations__)\n",
    "help(word_count)\n",
    "\n",
    "# Define a function called triple\n",
    "def triple(x: int):\n",
    "    # Python ignores comments entirely\n",
    "    \"\"\"Docstrings get stored in the __doc__ attribute.\"\"\"\n",
    "    return x*3\n",
    "\n",
    "# Access the information on the triple function\n",
    "print(triple.__doc__)\n",
    "print(triple.__annotations__)\n",
    "help(triple)\n",
    "\n",
    "def triple(x: int):\n",
    "    \"\"\"Multiply a number by three.\"\"\"\n",
    "    return x * 3\n",
    "\n",
    "# If a function has a docstring,\n",
    "# it can be defined without a code block\n",
    "def triple(x: int):\n",
    "    # Python ignores comments entirely\n",
    "    \"\"\"Functions without return statements return None.\"\"\"\n",
    "\n",
    "# Access the information on the triple function\n",
    "print(triple.__doc__)\n",
    "help(triple)\n",
    "\n",
    "# Access the information on the triple function\n",
    "\n",
    "# Define a function called average\n",
    "from typing import List\n",
    "\n",
    "def average(x: List[float]) -> float:\n",
    "    \"\"\"Average a list of numbers.\n",
    "\n",
    "    The mean (average) of a series of numbers is\n",
    "    the sum of the series divided by the\n",
    "    the length of the series.\n",
    "\n",
    "    Arguments:\n",
    "        x: An iterable containing numbers.\n",
    "\n",
    "    Returns:\n",
    "        The mean of input values.\n",
    "    \"\"\"\n",
    "    return sum(x) / len(x)\n",
    "\n",
    "# Define a function called median\n",
    "def median(x: List[float]) -> float:\n",
    "    \"\"\"Return the median.\n",
    "\n",
    "    The median is the middle value\n",
    "    if the length of x is odd or\n",
    "    the average of the two middle values\n",
    "    if the length of x is even.\n",
    "\n",
    "    Arguments:\n",
    "        x: An iterable containing numbers.\n",
    "\n",
    "    Returns:\n",
    "        The middle value or average of middle values.\n",
    "    \"\"\"\n",
    "    sorted_series = sorted(x)\n",
    "    series_length = len(x)\n",
    "    middle_index = series_length // 2\n",
    "    middle_value = sorted_series[middle_index]\n",
    "    if series_length % 2 != 0:\n",
    "        return middle_value\n",
    "    else:\n",
    "        return (middle_value + sorted_series[middle_index - 1]) / 2"
   ]
  },
  {
   "cell_type": "code",
   "execution_count": 2,
   "metadata": {},
   "outputs": [],
   "source": [
    "#Today's lesson: F strings"
   ]
  },
  {
   "cell_type": "code",
   "execution_count": 4,
   "metadata": {},
   "outputs": [
    {
     "data": {
      "text/plain": [
       "\"checking if this actually works because that's pretty crazy yo\""
      ]
     },
     "execution_count": 4,
     "metadata": {},
     "output_type": "execute_result"
    }
   ],
   "source": [
    "(\"checking if this \"\n",
    "\"actually works because \"\n",
    "\"that's pretty crazy yo\")"
   ]
  },
  {
   "cell_type": "code",
   "execution_count": 6,
   "metadata": {},
   "outputs": [],
   "source": [
    "# Use f-strings to insert code into strings"
   ]
  },
  {
   "cell_type": "code",
   "execution_count": 6,
   "metadata": {},
   "outputs": [],
   "source": [
    "my_var = [1, 2, 3]"
   ]
  },
  {
   "cell_type": "code",
   "execution_count": 8,
   "metadata": {},
   "outputs": [
    {
     "data": {
      "text/plain": [
       "'If I square my_var, I get <generator object <genexpr> at 0x110c65550>.'"
      ]
     },
     "execution_count": 8,
     "metadata": {},
     "output_type": "execute_result"
    }
   ],
   "source": [
    "f\"If I square my_var, I get {x**2 for x in my_var}.\""
   ]
  },
  {
   "cell_type": "code",
   "execution_count": 6,
   "metadata": {},
   "outputs": [],
   "source": [
    "# Names\n",
    "# Variable names should be written in snake_case\n",
    "my_var = [1, 2, 3]\n",
    "my_var = \"Variables can change\"\n",
    "\n",
    "def my_func():\n",
    "    \"\"\"Function names should also be snake_case.\"\"\""
   ]
  },
  {
   "cell_type": "code",
   "execution_count": 6,
   "metadata": {},
   "outputs": [],
   "source": [
    "# Constants, variables that we don't plan on modifying,\n",
    "# should be written in SCREAMING_SNAKE_CASE\n",
    "ALWAYS_FIVE = 5"
   ]
  },
  {
   "cell_type": "code",
   "execution_count": 9,
   "metadata": {},
   "outputs": [],
   "source": [
    "kebab = 5\n",
    "case = 3"
   ]
  },
  {
   "cell_type": "code",
   "execution_count": 6,
   "metadata": {},
   "outputs": [],
   "source": [
    "# kebab-case works only in strings, not variable names\n",
    "my_str = \"kebab-case\""
   ]
  },
  {
   "cell_type": "code",
   "execution_count": 6,
   "metadata": {},
   "outputs": [],
   "source": [
    "# Assign three variables in a row\n",
    "x = y = z = 3"
   ]
  },
  {
   "cell_type": "code",
   "execution_count": 11,
   "metadata": {},
   "outputs": [
    {
     "data": {
      "text/plain": [
       "2"
      ]
     },
     "execution_count": 11,
     "metadata": {},
     "output_type": "execute_result"
    }
   ],
   "source": [
    "# Create a string\n",
    "my_str = \"a few words in a string\"\n",
    "\n",
    "# Combine two methods in a horizontal method chain\n",
    "my_str.split().index(\"words\")"
   ]
  },
  {
   "cell_type": "code",
   "execution_count": 12,
   "metadata": {},
   "outputs": [
    {
     "data": {
      "text/plain": [
       "2"
      ]
     },
     "execution_count": 12,
     "metadata": {},
     "output_type": "execute_result"
    }
   ],
   "source": [
    "my_str.split().index(\"words\")"
   ]
  },
  {
   "cell_type": "code",
   "execution_count": 16,
   "metadata": {},
   "outputs": [
    {
     "name": "stdout",
     "output_type": "stream",
     "text": [
      "2\n"
     ]
    }
   ],
   "source": [
    "# Wrap with parentheses to chain methods vertically\n",
    "print(my_str\n",
    " .split()\n",
    " .index(\"words\")\n",
    ")\n",
    "#I LIKE THIS!!!"
   ]
  },
  {
   "cell_type": "code",
   "execution_count": 15,
   "metadata": {},
   "outputs": [
    {
     "data": {
      "text/plain": [
       "'a few words in a string! Another thing.'"
      ]
     },
     "execution_count": 15,
     "metadata": {},
     "output_type": "execute_result"
    }
   ],
   "source": [
    "(my_str\n",
    "    + \"!\"\n",
    "    + \" Another thing.\"\n",
    ")"
   ]
  },
  {
   "cell_type": "code",
   "execution_count": 6,
   "metadata": {},
   "outputs": [],
   "source": [
    "# Create a word list"
   ]
  },
  {
   "cell_type": "code",
   "execution_count": 19,
   "metadata": {},
   "outputs": [],
   "source": [
    "word_list = my_str.split()"
   ]
  },
  {
   "cell_type": "code",
   "execution_count": 20,
   "metadata": {},
   "outputs": [
    {
     "data": {
      "text/plain": [
       "['!', 'few', 'words', 'in', 'a', 'string']"
      ]
     },
     "execution_count": 20,
     "metadata": {},
     "output_type": "execute_result"
    }
   ],
   "source": [
    "# Replace the first word with !\n",
    "word_list[0] = \"!\"\n",
    "word_list"
   ]
  },
  {
   "cell_type": "code",
   "execution_count": 29,
   "metadata": {},
   "outputs": [
    {
     "name": "stdout",
     "output_type": "stream",
     "text": [
      "3\n",
      "5\n",
      "8\n",
      "12\n",
      "17\n",
      "23\n",
      "30\n",
      "38\n"
     ]
    }
   ],
   "source": [
    "# For loops\n",
    "# When to write for loop:\n",
    "# 1. Not creating a Python object (printing something, creating a file)\n",
    "# 2. When you are translating math into code (e.g. summation using +=)\n",
    "\n",
    "y = 2;\n",
    "for i in range(1, 9):\n",
    "    y += i\n",
    "    print(y)"
   ]
  },
  {
   "cell_type": "code",
   "execution_count": 30,
   "metadata": {},
   "outputs": [
    {
     "name": "stdout",
     "output_type": "stream",
     "text": [
      "True\n",
      "True\n",
      "False\n",
      "False\n"
     ]
    }
   ],
   "source": [
    "for huzzah in range(4):\n",
    "    print(huzzah <= 1)"
   ]
  },
  {
   "cell_type": "code",
   "execution_count": 31,
   "metadata": {},
   "outputs": [],
   "source": [
    "import pathlib\n",
    "\n",
    "for i in range(9):\n",
    "    pathlib.Path(\n",
    "        f\"test{i}.txt\"\n",
    "    ).write_text(\n",
    "        f\"This is file {i}.\"\n",
    "    )"
   ]
  },
  {
   "cell_type": "code",
   "execution_count": 36,
   "metadata": {},
   "outputs": [],
   "source": [
    "# Functions\n",
    "# When to write a function:\n",
    "# 1. Always!\n",
    "# 2. Whenever you might need to reuse code\n",
    "# 3. When you want to abstract away complex code\n",
    "# 4. When you want to document your code (be a good human being)\n",
    "\n",
    "# Define a function called word_count\n",
    "def word_count(string: str) -> int:\n",
    "    \"\"\"Count the words in a string.\n",
    "\n",
    "    Arguments:\n",
    "        string: A string that contains words.\n",
    "\n",
    "    Returns:\n",
    "        int: The number of words in the input string.\n",
    "\n",
    "    \"\"\"\n",
    "    word_list = string.split()\n",
    "    return len(word_list)"
   ]
  },
  {
   "cell_type": "code",
   "execution_count": 33,
   "metadata": {},
   "outputs": [
    {
     "name": "stdout",
     "output_type": "stream",
     "text": [
      "Count the words in a string.\n",
      "\n",
      "    Arguments:\n",
      "        string: A string that contains words.\n",
      "\n",
      "    Returns:\n",
      "        int: The number of words in the input string.\n",
      "\n",
      "    \n"
     ]
    }
   ],
   "source": [
    "print(word_count.__doc__)"
   ]
  },
  {
   "cell_type": "code",
   "execution_count": 6,
   "metadata": {},
   "outputs": [],
   "source": [
    "word_count?"
   ]
  },
  {
   "cell_type": "code",
   "execution_count": 37,
   "metadata": {},
   "outputs": [
    {
     "name": "stdout",
     "output_type": "stream",
     "text": [
      "{'string': <class 'str'>, 'return': <class 'int'>}\n"
     ]
    }
   ],
   "source": [
    "print(word_count.__annotations__)"
   ]
  },
  {
   "cell_type": "code",
   "execution_count": 38,
   "metadata": {},
   "outputs": [
    {
     "name": "stdout",
     "output_type": "stream",
     "text": [
      "Help on function word_count in module __main__:\n",
      "\n",
      "word_count(string: str) -> int\n",
      "    Count the words in a string.\n",
      "    \n",
      "    Arguments:\n",
      "        string: A string that contains words.\n",
      "    \n",
      "    Returns:\n",
      "        int: The number of words in the input string.\n",
      "\n"
     ]
    }
   ],
   "source": [
    "help(word_count)"
   ]
  },
  {
   "cell_type": "code",
   "execution_count": 49,
   "metadata": {},
   "outputs": [],
   "source": [
    "# Define a function called triple\n",
    "def triple(x: int):\n",
    "    # Python ignores comments entirely\n",
    "    \"\"\"Docstrings get stored in the __doc__ attribute. \n",
    "    Multiply a number by three.\n",
    "    \n",
    "    Arguments: \n",
    "        x: a number.\n",
    "        \n",
    "    Returns:\n",
    "        The input number multiplied by three.\"\"\"\n",
    "    return x*3\n",
    "#Why no () after return?\n",
    "#It will return a tuple with a single number inside if python earlier than 3. \n",
    "#Will work in 3 onward, but will confused people who are used to the other method"
   ]
  },
  {
   "cell_type": "code",
   "execution_count": 44,
   "metadata": {},
   "outputs": [],
   "source": [
    "from copy import deepcopy\n",
    "a = b = c = deepcopy(list(\"abc\"))"
   ]
  },
  {
   "cell_type": "code",
   "execution_count": 46,
   "metadata": {},
   "outputs": [
    {
     "data": {
      "text/plain": [
       "['a', 'b', 'c', 'a', 'b', 'c', 'a', 'b', 'c']"
      ]
     },
     "execution_count": 46,
     "metadata": {},
     "output_type": "execute_result"
    }
   ],
   "source": [
    "triple(a)"
   ]
  },
  {
   "cell_type": "code",
   "execution_count": 45,
   "metadata": {},
   "outputs": [
    {
     "data": {
      "text/plain": [
       "['a', 'b', 'c']"
      ]
     },
     "execution_count": 45,
     "metadata": {},
     "output_type": "execute_result"
    }
   ],
   "source": [
    "a"
   ]
  },
  {
   "cell_type": "code",
   "execution_count": 52,
   "metadata": {},
   "outputs": [
    {
     "data": {
      "text/plain": [
       "'one two three'"
      ]
     },
     "execution_count": 52,
     "metadata": {},
     "output_type": "execute_result"
    }
   ],
   "source": [
    "(\n",
    "    \"one\" +\n",
    "    \" two\" +\n",
    "    \" three\"\n",
    ")"
   ]
  },
  {
   "cell_type": "code",
   "execution_count": 53,
   "metadata": {},
   "outputs": [
    {
     "name": "stdout",
     "output_type": "stream",
     "text": [
      "Docstrings get stored in the __doc__ attribute. \n",
      "    Multiply a number by three.\n",
      "    \n",
      "    Arguments: \n",
      "        x: a number.\n",
      "        \n",
      "    Returns:\n",
      "        The input number multiplied by three.\n",
      "{'x': <class 'int'>}\n",
      "Help on function triple in module __main__:\n",
      "\n",
      "triple(x: int)\n",
      "    Docstrings get stored in the __doc__ attribute. \n",
      "    Multiply a number by three.\n",
      "    \n",
      "    Arguments: \n",
      "        x: a number.\n",
      "        \n",
      "    Returns:\n",
      "        The input number multiplied by three.\n",
      "\n"
     ]
    }
   ],
   "source": [
    "# Access the information on the triple function\n",
    "print(triple.__doc__)\n",
    "print(triple.__annotations__)\n",
    "help(triple)\n",
    "\n",
    "def triple(x: int):\n",
    "    \"\"\"Multiply a number by three.\"\"\"\n",
    "    return x * 3"
   ]
  },
  {
   "cell_type": "code",
   "execution_count": 60,
   "metadata": {},
   "outputs": [],
   "source": [
    "# If a function has a docstring,\n",
    "# it can be defined without a code block\n",
    "def triple(x: int):\n",
    "    # Python ignores comments entirely\n",
    "    \"\"\"Functions without return statements return None.\"\"\"\n",
    "    return x*3"
   ]
  },
  {
   "cell_type": "code",
   "execution_count": 63,
   "metadata": {},
   "outputs": [],
   "source": [
    "def test_triple():\n",
    "    assert triple(5) == 15\n",
    "    #Used to test the triple function\n",
    "    #Need to create test functions to get error messages when the function is not behaving properly.\n",
    "    #Without a test, it won't report anything (fucntions without return statements return none)"
   ]
  },
  {
   "cell_type": "code",
   "execution_count": 61,
   "metadata": {},
   "outputs": [],
   "source": [
    "test_triple()"
   ]
  },
  {
   "cell_type": "code",
   "execution_count": 64,
   "metadata": {},
   "outputs": [
    {
     "name": "stdout",
     "output_type": "stream",
     "text": [
      "Functions without return statements return None.\n",
      "Help on function triple in module __main__:\n",
      "\n",
      "triple(x: int)\n",
      "    Functions without return statements return None.\n",
      "\n"
     ]
    }
   ],
   "source": [
    "# Access the information on the triple function\n",
    "print(triple.__doc__)\n",
    "help(triple)\n",
    "\n",
    "# Access the information on the triple function"
   ]
  },
  {
   "cell_type": "code",
   "execution_count": 65,
   "metadata": {},
   "outputs": [],
   "source": [
    "from statistics import mean"
   ]
  },
  {
   "cell_type": "code",
   "execution_count": 67,
   "metadata": {},
   "outputs": [
    {
     "data": {
      "text/plain": [
       "22.666666666666668"
      ]
     },
     "execution_count": 67,
     "metadata": {},
     "output_type": "execute_result"
    }
   ],
   "source": [
    "mean([x**2 for x in range(9)])\n",
    "#Also works without brackets, which our self programmed function couldn't do.\n",
    "#Best to use already available tools for the job, don't reinvent the wheel."
   ]
  },
  {
   "cell_type": "code",
   "execution_count": 70,
   "metadata": {},
   "outputs": [],
   "source": [
    "# Define a function called average\n",
    "from typing import List\n",
    "\n",
    "def average(x: List[float]) -> float:\n",
    "    \"\"\"Average a list of numbers.\n",
    "\n",
    "    The mean (average) of a series of numbers is\n",
    "    the sum of the series divided by the\n",
    "    the length of the series.\n",
    "\n",
    "    Arguments:\n",
    "        x: An iterable containing numbers.\n",
    "\n",
    "    Returns:\n",
    "        The mean of input values.\n",
    "    \"\"\"\n",
    "    return sum(x) / len(x)"
   ]
  },
  {
   "cell_type": "code",
   "execution_count": 71,
   "metadata": {},
   "outputs": [
    {
     "data": {
      "text/plain": [
       "4.0"
      ]
     },
     "execution_count": 71,
     "metadata": {},
     "output_type": "execute_result"
    }
   ],
   "source": [
    "average(list(range(9)))"
   ]
  },
  {
   "cell_type": "code",
   "execution_count": 6,
   "metadata": {},
   "outputs": [],
   "source": []
  },
  {
   "cell_type": "code",
   "execution_count": 73,
   "metadata": {},
   "outputs": [],
   "source": [
    "# Define a function called median\n",
    "def my_median(x: List[float]) -> float:\n",
    "    \"\"\"Return the median.\n",
    "\n",
    "    The median is the middle value\n",
    "    if the length of x is odd or\n",
    "    the average of the two middle values\n",
    "    if the length of x is even.\n",
    "\n",
    "    Arguments:\n",
    "        x: An iterable containing numbers.\n",
    "\n",
    "    Returns:\n",
    "        The middle value or average of middle values.\n",
    "    \"\"\"\n",
    "    sorted_series = sorted(x)\n",
    "    series_length = len(x)\n",
    "    middle_index = series_length // 2\n",
    "    middle_value = sorted_series[middle_index]\n",
    "    if series_length % 2 != 0:\n",
    "        return middle_value\n",
    "    else:\n",
    "        return (\n",
    "            middle_value \n",
    "            + sorted_series[middle_index - 1]\n",
    "        ) / 2"
   ]
  },
  {
   "cell_type": "code",
   "execution_count": 74,
   "metadata": {},
   "outputs": [],
   "source": [
    "from statistics import median"
   ]
  },
  {
   "cell_type": "code",
   "execution_count": 75,
   "metadata": {},
   "outputs": [
    {
     "data": {
      "text/plain": [
       "4"
      ]
     },
     "execution_count": 75,
     "metadata": {},
     "output_type": "execute_result"
    }
   ],
   "source": [
    "median(range(9))"
   ]
  },
  {
   "cell_type": "code",
   "execution_count": 76,
   "metadata": {},
   "outputs": [
    {
     "data": {
      "text/plain": [
       "4"
      ]
     },
     "execution_count": 76,
     "metadata": {},
     "output_type": "execute_result"
    }
   ],
   "source": [
    "my_median(range(9))"
   ]
  },
  {
   "cell_type": "code",
   "execution_count": 77,
   "metadata": {},
   "outputs": [
    {
     "data": {
      "text/plain": [
       "169"
      ]
     },
     "execution_count": 77,
     "metadata": {},
     "output_type": "execute_result"
    }
   ],
   "source": [
    "median([x**2 for x in [42,12,10,13,74]])"
   ]
  },
  {
   "cell_type": "code",
   "execution_count": 78,
   "metadata": {},
   "outputs": [
    {
     "data": {
      "text/plain": [
       "169"
      ]
     },
     "execution_count": 78,
     "metadata": {},
     "output_type": "execute_result"
    }
   ],
   "source": [
    "my_median([x**2 for x in [42,12,10,13,74]])"
   ]
  },
  {
   "cell_type": "code",
   "execution_count": 79,
   "metadata": {},
   "outputs": [
    {
     "data": {
      "text/plain": [
       "169"
      ]
     },
     "execution_count": 79,
     "metadata": {},
     "output_type": "execute_result"
    }
   ],
   "source": [
    "median(x**2 for x in [42,12,10,13,74])"
   ]
  },
  {
   "cell_type": "code",
   "execution_count": 80,
   "metadata": {},
   "outputs": [
    {
     "ename": "TypeError",
     "evalue": "object of type 'generator' has no len()",
     "output_type": "error",
     "traceback": [
      "\u001b[0;31m---------------------------------------------------------------------------\u001b[0m",
      "\u001b[0;31mTypeError\u001b[0m                                 Traceback (most recent call last)",
      "\u001b[0;32m<ipython-input-80-ad931b60f826>\u001b[0m in \u001b[0;36m<module>\u001b[0;34m\u001b[0m\n\u001b[0;32m----> 1\u001b[0;31m \u001b[0mmy_median\u001b[0m\u001b[0;34m(\u001b[0m\u001b[0mx\u001b[0m\u001b[0;34m**\u001b[0m\u001b[0;36m2\u001b[0m \u001b[0;32mfor\u001b[0m \u001b[0mx\u001b[0m \u001b[0;32min\u001b[0m \u001b[0;34m[\u001b[0m\u001b[0;36m42\u001b[0m\u001b[0;34m,\u001b[0m\u001b[0;36m12\u001b[0m\u001b[0;34m,\u001b[0m\u001b[0;36m10\u001b[0m\u001b[0;34m,\u001b[0m\u001b[0;36m13\u001b[0m\u001b[0;34m,\u001b[0m\u001b[0;36m74\u001b[0m\u001b[0;34m]\u001b[0m\u001b[0;34m)\u001b[0m\u001b[0;34m\u001b[0m\u001b[0;34m\u001b[0m\u001b[0m\n\u001b[0m",
      "\u001b[0;32m<ipython-input-73-1a42084107c5>\u001b[0m in \u001b[0;36mmy_median\u001b[0;34m(x)\u001b[0m\n\u001b[1;32m     15\u001b[0m     \"\"\"\n\u001b[1;32m     16\u001b[0m     \u001b[0msorted_series\u001b[0m \u001b[0;34m=\u001b[0m \u001b[0msorted\u001b[0m\u001b[0;34m(\u001b[0m\u001b[0mx\u001b[0m\u001b[0;34m)\u001b[0m\u001b[0;34m\u001b[0m\u001b[0;34m\u001b[0m\u001b[0m\n\u001b[0;32m---> 17\u001b[0;31m     \u001b[0mseries_length\u001b[0m \u001b[0;34m=\u001b[0m \u001b[0mlen\u001b[0m\u001b[0;34m(\u001b[0m\u001b[0mx\u001b[0m\u001b[0;34m)\u001b[0m\u001b[0;34m\u001b[0m\u001b[0;34m\u001b[0m\u001b[0m\n\u001b[0m\u001b[1;32m     18\u001b[0m     \u001b[0mmiddle_index\u001b[0m \u001b[0;34m=\u001b[0m \u001b[0mseries_length\u001b[0m \u001b[0;34m//\u001b[0m \u001b[0;36m2\u001b[0m\u001b[0;34m\u001b[0m\u001b[0;34m\u001b[0m\u001b[0m\n\u001b[1;32m     19\u001b[0m     \u001b[0mmiddle_value\u001b[0m \u001b[0;34m=\u001b[0m \u001b[0msorted_series\u001b[0m\u001b[0;34m[\u001b[0m\u001b[0mmiddle_index\u001b[0m\u001b[0;34m]\u001b[0m\u001b[0;34m\u001b[0m\u001b[0;34m\u001b[0m\u001b[0m\n",
      "\u001b[0;31mTypeError\u001b[0m: object of type 'generator' has no len()"
     ]
    }
   ],
   "source": [
    "my_median(x**2 for x in [42,12,10,13,74])"
   ]
  },
  {
   "cell_type": "code",
   "execution_count": null,
   "metadata": {},
   "outputs": [],
   "source": []
  }
 ],
 "metadata": {
  "kernelspec": {
   "display_name": "Python 3",
   "language": "python",
   "name": "python3"
  },
  "language_info": {
   "codemirror_mode": {
    "name": "ipython",
    "version": 3
   },
   "file_extension": ".py",
   "mimetype": "text/x-python",
   "name": "python",
   "nbconvert_exporter": "python",
   "pygments_lexer": "ipython3",
   "version": "3.7.4"
  }
 },
 "nbformat": 4,
 "nbformat_minor": 4
}
