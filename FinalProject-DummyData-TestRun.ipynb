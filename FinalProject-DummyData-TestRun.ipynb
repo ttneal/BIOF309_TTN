{
 "cells": [
  {
   "cell_type": "code",
   "execution_count": 1,
   "metadata": {},
   "outputs": [],
   "source": [
    "import pandas as pd"
   ]
  },
  {
   "cell_type": "code",
   "execution_count": 2,
   "metadata": {},
   "outputs": [],
   "source": [
    "import numpy as np"
   ]
  },
  {
   "cell_type": "code",
   "execution_count": 7,
   "metadata": {},
   "outputs": [],
   "source": [
    "dict = {\n",
    "    \"Sequence\":[\"Ex_Seq1\", \"Ex_Seq2\", \"Ex_Seq3\", \"Ex_Seq4\", \"Ex_Seq5\", \"Ex_Seq6\"],\n",
    "    \"MCPyV\":[0.933,0.874,0.233,0.122,0.767,0.500],\n",
    "    \"BKPyV\":[0.786,0.954,0.102,0.324,0.613,0.478],\n",
    "    \"HPV\":[0.666,0.623,0.980,0.023,0.003,0.541],\n",
    "    \"EBV\":[0.001,0.174,0.027,0.098,0.231,0.007],\n",
    "    \"HBV\":[0.459,0.089,0.190,0.988,0.342,0.783],\n",
    "    \"HCV\":[0.078,0.102,0.245,0.089,0.111,0.008]\n",
    "}"
   ]
  },
  {
   "cell_type": "code",
   "execution_count": 8,
   "metadata": {},
   "outputs": [
    {
     "name": "stdout",
     "output_type": "stream",
     "text": [
      "{'Sequence': ['Ex_Seq1', 'Ex_Seq2', 'Ex_Seq3', 'Ex_Seq4', 'Ex_Seq5', 'Ex_Seq6'], 'MCPyV': [0.933, 0.874, 0.233, 0.122, 0.767, 0.5], 'BKPyV': [0.786, 0.954, 0.102, 0.324, 0.613, 0.478], 'HPV': [0.666, 0.623, 0.98, 0.023, 0.003, 0.541], 'EBV': [0.001, 0.174, 0.027, 0.098, 0.231, 0.007], 'HBV': [0.459, 0.089, 0.19, 0.988, 0.342, 0.783], 'HCV': [0.078, 0.102, 0.245, 0.089, 0.111, 0.008]}\n"
     ]
    }
   ],
   "source": [
    "print(dict)"
   ]
  },
  {
   "cell_type": "code",
   "execution_count": 9,
   "metadata": {},
   "outputs": [
    {
     "name": "stdout",
     "output_type": "stream",
     "text": [
      "  Sequence  MCPyV  BKPyV    HPV    EBV    HBV    HCV\n",
      "0  Ex_Seq1  0.933  0.786  0.666  0.001  0.459  0.078\n",
      "1  Ex_Seq2  0.874  0.954  0.623  0.174  0.089  0.102\n",
      "2  Ex_Seq3  0.233  0.102  0.980  0.027  0.190  0.245\n",
      "3  Ex_Seq4  0.122  0.324  0.023  0.098  0.988  0.089\n",
      "4  Ex_Seq5  0.767  0.613  0.003  0.231  0.342  0.111\n",
      "5  Ex_Seq6  0.500  0.478  0.541  0.007  0.783  0.008\n"
     ]
    }
   ],
   "source": [
    "DummyTable = pd.DataFrame(dict)\n",
    "print(DummyTable)"
   ]
  },
  {
   "cell_type": "code",
   "execution_count": 11,
   "metadata": {},
   "outputs": [
    {
     "name": "stdout",
     "output_type": "stream",
     "text": [
      "   MCPyV  BKPyV    HPV    EBV    HBV    HCV\n",
      "0  0.933  0.786  0.666  0.001  0.459  0.078\n",
      "1  0.874  0.954  0.623  0.174  0.089  0.102\n",
      "2  0.233  0.102  0.980  0.027  0.190  0.245\n",
      "3  0.122  0.324  0.023  0.098  0.988  0.089\n",
      "4  0.767  0.613  0.003  0.231  0.342  0.111\n",
      "5  0.500  0.478  0.541  0.007  0.783  0.008\n"
     ]
    }
   ],
   "source": [
    "dict = {\n",
    "    \"MCPyV\":[0.933,0.874,0.233,0.122,0.767,0.500],\n",
    "    \"BKPyV\":[0.786,0.954,0.102,0.324,0.613,0.478],\n",
    "    \"HPV\":[0.666,0.623,0.980,0.023,0.003,0.541],\n",
    "    \"EBV\":[0.001,0.174,0.027,0.098,0.231,0.007],\n",
    "    \"HBV\":[0.459,0.089,0.190,0.988,0.342,0.783],\n",
    "    \"HCV\":[0.078,0.102,0.245,0.089,0.111,0.008]\n",
    "}\n",
    "DummyTable = pd.DataFrame(dict)\n",
    "print(DummyTable)"
   ]
  },
  {
   "cell_type": "code",
   "execution_count": 12,
   "metadata": {},
   "outputs": [],
   "source": [
    "DummyTable.index = [\"Ex_Seq1\", \"Ex_Seq2\", \"Ex_Seq3\", \"Ex_Seq4\", \"Ex_Seq5\", \"Ex_Seq6\"]"
   ]
  },
  {
   "cell_type": "code",
   "execution_count": 13,
   "metadata": {},
   "outputs": [
    {
     "name": "stdout",
     "output_type": "stream",
     "text": [
      "         MCPyV  BKPyV    HPV    EBV    HBV    HCV\n",
      "Ex_Seq1  0.933  0.786  0.666  0.001  0.459  0.078\n",
      "Ex_Seq2  0.874  0.954  0.623  0.174  0.089  0.102\n",
      "Ex_Seq3  0.233  0.102  0.980  0.027  0.190  0.245\n",
      "Ex_Seq4  0.122  0.324  0.023  0.098  0.988  0.089\n",
      "Ex_Seq5  0.767  0.613  0.003  0.231  0.342  0.111\n",
      "Ex_Seq6  0.500  0.478  0.541  0.007  0.783  0.008\n"
     ]
    }
   ],
   "source": [
    "print(DummyTable)"
   ]
  },
  {
   "cell_type": "code",
   "execution_count": 15,
   "metadata": {},
   "outputs": [
    {
     "ename": "ModuleNotFoundError",
     "evalue": "No module named 'prettytable'",
     "output_type": "error",
     "traceback": [
      "\u001b[0;31m---------------------------------------------------------------------------\u001b[0m",
      "\u001b[0;31mModuleNotFoundError\u001b[0m                       Traceback (most recent call last)",
      "\u001b[0;32m<ipython-input-15-0f482c9f33be>\u001b[0m in \u001b[0;36m<module>\u001b[0;34m\u001b[0m\n\u001b[0;32m----> 1\u001b[0;31m \u001b[0;32mimport\u001b[0m \u001b[0mprettytable\u001b[0m\u001b[0;34m\u001b[0m\u001b[0;34m\u001b[0m\u001b[0m\n\u001b[0m\u001b[1;32m      2\u001b[0m \u001b[0;32mfrom\u001b[0m \u001b[0mprettytable\u001b[0m \u001b[0;32mimport\u001b[0m \u001b[0mPrettyTable\u001b[0m\u001b[0;34m\u001b[0m\u001b[0;34m\u001b[0m\u001b[0m\n",
      "\u001b[0;31mModuleNotFoundError\u001b[0m: No module named 'prettytable'"
     ]
    }
   ],
   "source": [
    "import prettytable\n",
    "from prettytable import PrettyTable"
   ]
  },
  {
   "cell_type": "code",
   "execution_count": 16,
   "metadata": {},
   "outputs": [
    {
     "ename": "ModuleNotFoundError",
     "evalue": "No module named 'tabulate'",
     "output_type": "error",
     "traceback": [
      "\u001b[0;31m---------------------------------------------------------------------------\u001b[0m",
      "\u001b[0;31mModuleNotFoundError\u001b[0m                       Traceback (most recent call last)",
      "\u001b[0;32m<ipython-input-16-5df088049afd>\u001b[0m in \u001b[0;36m<module>\u001b[0;34m\u001b[0m\n\u001b[0;32m----> 1\u001b[0;31m \u001b[0;32mfrom\u001b[0m \u001b[0mtabulate\u001b[0m \u001b[0;32mimport\u001b[0m \u001b[0mtabulate\u001b[0m\u001b[0;34m\u001b[0m\u001b[0;34m\u001b[0m\u001b[0m\n\u001b[0m",
      "\u001b[0;31mModuleNotFoundError\u001b[0m: No module named 'tabulate'"
     ]
    }
   ],
   "source": [
    "from tabulate import tabulate"
   ]
  },
  {
   "cell_type": "code",
   "execution_count": 17,
   "metadata": {},
   "outputs": [],
   "source": [
    "import matplotlib.pyplot as plt"
   ]
  },
  {
   "cell_type": "code",
   "execution_count": 18,
   "metadata": {},
   "outputs": [],
   "source": [
    "CNV_Intensity = [0.078,0.102,0.245,0.089,0.111,0.008,0.459,0.089,0.190,0.988,0.342,0.783,0.001,0.174,0.027,0.098,0.231,0.007,0.666,0.623,0.980,0.023,0.003,0.541,0.786,0.954,0.102,0.324,0.613,0.478,0.933,0.874,0.233,0.122,0.767,0.500]\n",
    "Virus_Binding_Score = [0.933,0.874,0.233,0.122,0.767,0.500,0.786,0.954,0.102,0.324,0.613,0.478,0.666,0.623,0.980,0.023,0.003,0.541,0.001,0.174,0.027,0.098,0.231,0.007,0.459,0.089,0.190,0.988,0.342,0.783,0.078,0.102,0.245,0.089,0.111,0.008]"
   ]
  },
  {
   "cell_type": "code",
   "execution_count": 21,
   "metadata": {},
   "outputs": [
    {
     "data": {
      "image/png": "[encoded data removed]",
      "text/plain": [
       "<Figure size 432x288 with 1 Axes>"
      ]
     },
     "metadata": {
      "needs_background": "light"
     },
     "output_type": "display_data"
    }
   ],
   "source": [
    "plt.scatter(CNV_Intensity, Virus_Binding_Score)\n",
    "plt.title(\"Virus Binding Score Correlates to Increasing CNV Intensity\")\n",
    "plt.xlabel(\"CNV Intensity\")\n",
    "plt.ylabel(\"Virus Binding Score\")\n",
    "plt.show()"
   ]
  },
  {
   "cell_type": "code",
   "execution_count": null,
   "metadata": {},
   "outputs": [],
   "source": []
  }
 ],
 "metadata": {
  "kernelspec": {
   "display_name": "Python 3",
   "language": "python",
   "name": "python3"
  },
  "language_info": {
   "codemirror_mode": {
    "name": "ipython",
    "version": 3
   },
   "file_extension": ".py",
   "mimetype": "text/x-python",
   "name": "python",
   "nbconvert_exporter": "python",
   "pygments_lexer": "ipython3",
   "version": "3.7.4"
  }
 },
 "nbformat": 4,
 "nbformat_minor": 4
}
