{
 "cells": [
  {
   "cell_type": "code",
   "execution_count": 15,
   "metadata": {},
   "outputs": [
    {
     "name": "stdout",
     "output_type": "stream",
     "text": [
      "ATCG\n",
      "21\n",
      "25\n",
      "ATCG\n",
      "61\n",
      "65\n",
      "Iter failed\n"
     ]
    }
   ],
   "source": [
    "import re\n",
    "\n",
    "#Taking Regex iterable and turning it into a pandas dataframe\n",
    "example_regex = re.compile(r\"ATCG\")\n",
    "example_string = \"This string contains ATCG twice so that I can simply test an ATCG DNA iterable\"\n",
    "\n",
    "#Testing the iterable object\n",
    "example_iter = example_regex.finditer(example_string)\n",
    "if example_iter:\n",
    "    for i in example_iter:\n",
    "        print(i.group())\n",
    "        print(i.start())\n",
    "        print(i.end())\n",
    "    else:\n",
    "        print(\"Iter failed\")\n",
    "#Things like \".group\" and \".start\" work on a single match, but can't be used on iterables directly because they are\n",
    "#   groups of matches, so instead you need to iterate through each match found and stored in the iterable\n",
    "#Still printing else statement... why?"
   ]
  },
  {
   "cell_type": "code",
   "execution_count": 18,
   "metadata": {},
   "outputs": [
    {
     "name": "stdout",
     "output_type": "stream",
     "text": [
      "Empty DataFrame\n",
      "Columns: [Seq Name, Start, Stop, Full Seq]\n",
      "Index: []\n"
     ]
    }
   ],
   "source": [
    "#Storing data from the iterable object in a data table\n",
    "#Columns: Seq_name, Start location, Stop location, full seq found\n",
    "import re\n",
    "import pandas as pd\n",
    "\n",
    "example_dataframe = pd.DataFrame(columns=[\"Seq Name\",\"Start\",\"Stop\",\"Full Seq\"])\n",
    "print(example_dataframe)"
   ]
  },
  {
   "cell_type": "code",
   "execution_count": 23,
   "metadata": {},
   "outputs": [
    {
     "name": "stdout",
     "output_type": "stream",
     "text": [
      "Empty DataFrame\n",
      "Columns: [Seq Name, Start, Stop, Full Seq]\n",
      "Index: []\n",
      "['(18, 28)', 18, 28, 'ns ATCG tw']\n",
      "['(58, 68)', 58, 68, 'an ATCG DN']\n",
      "Empty DataFrame\n",
      "Columns: [Seq Name, Start, Stop, Full Seq]\n",
      "Index: []\n"
     ]
    }
   ],
   "source": [
    "#Storing data from the iterable object in a data table\n",
    "#Columns: Seq_name, Start location, Stop location, full seq found\n",
    "import re\n",
    "import pandas as pd\n",
    "\n",
    "example_dataframe = pd.DataFrame(columns=[\"Seq Name\",\"Start\",\"Stop\",\"Full Seq\"])\n",
    "print(example_dataframe)\n",
    "\n",
    "example_regex = re.compile(r\"\\w{2}\\sATCG\\s\\w{2}\")\n",
    "example_string = \"This string contains ATCG twice so that I can simply test an ATCG DNA iterable\"\n",
    "example_iter = example_regex.finditer(example_string)\n",
    "\n",
    "if example_iter:\n",
    "    for i in example_iter:\n",
    "        temp_list = []\n",
    "        temp_list.append(str(i.span()))\n",
    "        temp_list.append(i.start())\n",
    "        temp_list.append(i.end())\n",
    "        temp_list.append(i.group())\n",
    "        print(temp_list)\n",
    "        example_dataframe.append(temp_list)\n",
    "print(example_dataframe)"
   ]
  },
  {
   "cell_type": "code",
   "execution_count": 27,
   "metadata": {},
   "outputs": [
    {
     "name": "stdout",
     "output_type": "stream",
     "text": [
      "   Seq Name  Start   End    Full Seq\n",
      "0      None    NaN   NaN        None\n",
      "1  (18, 28)   18.0  28.0  ns ATCG tw\n",
      "2  (58, 68)   58.0  68.0  an ATCG DN\n"
     ]
    }
   ],
   "source": [
    "#Storing data from the iterable object in a data table\n",
    "#Columns: Seq_name, Start location, Stop location, full seq found\n",
    "import re\n",
    "import pandas as pd\n",
    "\n",
    "example_list = [[]]\n",
    "\n",
    "example_regex = re.compile(r\"\\w{2}\\sATCG\\s\\w{2}\")\n",
    "example_string = \"This string contains ATCG twice so that I can simply test an ATCG DNA iterable\"\n",
    "example_iter = example_regex.finditer(example_string)\n",
    "\n",
    "if example_iter:\n",
    "    for i in example_iter:\n",
    "        temp_list = []\n",
    "        temp_list.append(i.span())\n",
    "        temp_list.append(i.start())\n",
    "        temp_list.append(i.end())\n",
    "        temp_list.append(i.group())\n",
    "        example_list.append(temp_list)\n",
    "example_dataframe = pd.DataFrame(example_list, columns=[\"Seq Name\", \"Start\", \"End\", \"Full Seq\"])\n",
    "print(example_dataframe)"
   ]
  },
  {
   "cell_type": "code",
   "execution_count": 28,
   "metadata": {},
   "outputs": [],
   "source": [
    "#Why the first row...?"
   ]
  },
  {
   "cell_type": "code",
   "execution_count": 29,
   "metadata": {},
   "outputs": [
    {
     "name": "stdout",
     "output_type": "stream",
     "text": [
      "   Seq Name  Start  End    Full Seq\n",
      "0  (18, 28)     18   28  ns ATCG tw\n",
      "1  (58, 68)     58   68  an ATCG DN\n"
     ]
    }
   ],
   "source": [
    "#Storing data from the iterable object in a data table\n",
    "#Columns: Seq_name, Start location, Stop location, full seq found\n",
    "import re\n",
    "import pandas as pd\n",
    "\n",
    "example_list = []\n",
    "\n",
    "example_regex = re.compile(r\"\\w{2}\\sATCG\\s\\w{2}\")\n",
    "example_string = \"This string contains ATCG twice so that I can simply test an ATCG DNA iterable\"\n",
    "example_iter = example_regex.finditer(example_string)\n",
    "\n",
    "if example_iter:\n",
    "    for i in example_iter:\n",
    "        temp_list = []\n",
    "        temp_list.append(i.span())\n",
    "        temp_list.append(i.start())\n",
    "        temp_list.append(i.end())\n",
    "        temp_list.append(i.group())\n",
    "        example_list.append(temp_list)\n",
    "example_dataframe = pd.DataFrame(example_list, columns=[\"Seq Name\", \"Start\", \"End\", \"Full Seq\"])\n",
    "print(example_dataframe)"
   ]
  },
  {
   "cell_type": "code",
   "execution_count": 30,
   "metadata": {},
   "outputs": [],
   "source": [
    "#Nvm figured it out"
   ]
  },
  {
   "cell_type": "code",
   "execution_count": 31,
   "metadata": {},
   "outputs": [
    {
     "name": "stdout",
     "output_type": "stream",
     "text": [
      "   Seq Name  Start  End    Full Seq\n",
      "0  (18, 28)     18   28  ns ATCG tw\n",
      "1  (58, 68)     58   68  an ATCG DN\n"
     ]
    }
   ],
   "source": [
    "#Storing data from the iterable object in a data table\n",
    "#Columns: Seq_name, Start location, Stop location, full seq found\n",
    "import re\n",
    "import pandas as pd\n",
    "\n",
    "example_list = []\n",
    "\n",
    "example_regex = re.compile(r\"\\w{2}\\sATCG\\s\\w{2}\")\n",
    "example_string = \"This string contains ATCG twice so that I can simply test an ATCG DNA iterable\"\n",
    "example_iter = example_regex.finditer(example_string)\n",
    "\n",
    "for i in example_iter:\n",
    "    temp_list = []\n",
    "    temp_list.append(i.span())\n",
    "    temp_list.append(i.start())\n",
    "    temp_list.append(i.end())\n",
    "    temp_list.append(i.group())\n",
    "    example_list.append(temp_list)\n",
    "example_dataframe = pd.DataFrame(example_list, columns=[\"Seq Name\", \"Start\", \"End\", \"Full Seq\"])\n",
    "print(example_dataframe)"
   ]
  },
  {
   "cell_type": "code",
   "execution_count": 32,
   "metadata": {},
   "outputs": [
    {
     "name": "stdout",
     "output_type": "stream",
     "text": [
      "   Index     GCD ID  Chromosome  Start  Stop  CNV Intensity  Length  \\\n",
      "0      0  Patient 1          13    800   900            0.4      20   \n",
      "1      1  Patient 2           8    450   520            0.8      20   \n",
      "2      3  Patient 3           1    200   340            1.3      20   \n",
      "\n",
      "               Sequence  \n",
      "0  ATCGATCGATCGATCGATCG  \n",
      "1  GTCAGTCAGTCAGTCAGTCA  \n",
      "2  TCGATCGATCGATCGATCGA  \n"
     ]
    }
   ],
   "source": [
    "#Okay, so we've figured out it works with a string. Now, we have to test if this works by iterating over a dataframe\n",
    "#1st: Iterating over an example dataframe\n",
    "#    Setting up DataFrame\n",
    "ex_data = [[0,\"Patient 1\",13,800,900,0.4,20,\"ATCGATCGATCGATCGATCG\"],\n",
    "           [1,\"Patient 2\",8,450,520,0.8,20,\"GTCAGTCAGTCAGTCAGTCA\"],\n",
    "           [3,\"Patient 3\",1,200,340,1.3,20,\"TCGATCGATCGATCGATCGA\"]]\n",
    "\n",
    "ex_df = pd.DataFrame(ex_data,columns=[\"Index\", \"GCD ID\", \"Chromosome\", \"Start\", \"Stop\", \"CNV Intensity\", \"Length\", \"Sequence\"])\n",
    "print(ex_df)"
   ]
  },
  {
   "cell_type": "code",
   "execution_count": 39,
   "metadata": {},
   "outputs": [
    {
     "name": "stdout",
     "output_type": "stream",
     "text": [
      "      GCD ID  Chromosome  Start  Stop  CNV Intensity  Length  \\\n",
      "0  Patient 1          13    800   900            0.4      20   \n",
      "1  Patient 2           8    450   520            0.8      20   \n",
      "2  Patient 3           1    200   340            1.3      20   \n",
      "\n",
      "               Sequence  \n",
      "0  ATCGATCGATCGATCGATCG  \n",
      "1  GTCAGTCAGTCAGTCAGTCA  \n",
      "2  TCGATCGATCGATCGATCGA  \n"
     ]
    }
   ],
   "source": [
    "ex_data = [[\"Patient 1\",13,800,900,0.4,20,\"ATCGATCGATCGATCGATCG\"],\n",
    "           [\"Patient 2\",8,450,520,0.8,20,\"GTCAGTCAGTCAGTCAGTCA\"],\n",
    "           [\"Patient 3\",1,200,340,1.3,20,\"TCGATCGATCGATCGATCGA\"]]\n",
    "\n",
    "ex_df = pd.DataFrame(ex_data,columns=[\"GCD ID\", \"Chromosome\", \"Start\", \"Stop\", \"CNV Intensity\", \"Length\", \"Sequence\"])\n",
    "print(ex_df)"
   ]
  },
  {
   "cell_type": "code",
   "execution_count": 49,
   "metadata": {},
   "outputs": [
    {
     "name": "stdout",
     "output_type": "stream",
     "text": [
      "ATCGATCGATCGATCGATCG\n",
      "0\n",
      "GTCAGTCAGTCAGTCAGTCA\n",
      "1\n",
      "TCGATCGATCGATCGATCGA\n",
      "2\n"
     ]
    }
   ],
   "source": [
    "#Iterating over a dataframe\n",
    "for row, col in ex_df.iterrows():\n",
    "    print(col[\"Sequence\"])\n",
    "    print(row)"
   ]
  },
  {
   "cell_type": "code",
   "execution_count": 50,
   "metadata": {},
   "outputs": [
    {
     "name": "stdout",
     "output_type": "stream",
     "text": [
      "['an ATCG DN', 'an ATCG DN']\n",
      "[]\n",
      "['an ATCG DN', 'an ATCG DN']\n",
      "     Full Seq\n",
      "0  an ATCG DN\n",
      "1  an ATCG DN\n"
     ]
    }
   ],
   "source": [
    "#2nd: Nested for loop\n",
    "ex_regex = re.compile(r\"CGATC\")\n",
    "\n",
    "for row, col in ex_df.iterrows():\n",
    "    temp_list = []\n",
    "    ex_iter = ex_regex.finditer(col[\"Sequence\"])\n",
    "    for match in ex_iter:\n",
    "        temp_list.append(i.group())\n",
    "    print(temp_list)\n",
    "new_dataframe = pd.DataFrame(temp_list, columns=[\"Full Seq\"])\n",
    "print(new_dataframe)"
   ]
  },
  {
   "cell_type": "code",
   "execution_count": 3,
   "metadata": {},
   "outputs": [
    {
     "name": "stdout",
     "output_type": "stream",
     "text": [
      "      GCD ID  Chromosome  Start  Stop  CNV Intensity  Length  \\\n",
      "0  Patient 1          13    800   900            0.4      20   \n",
      "1  Patient 2           8    450   520            0.8      20   \n",
      "2  Patient 3           1    200   340            1.3      20   \n",
      "\n",
      "               Sequence  \n",
      "0  ATCGATCGATCGATCGATCG  \n",
      "1  GTCAGTCAGTCAGTCAGTCA  \n",
      "2  TCGATCGATCGATCGATCGA  \n",
      "['CGATC', 'CGATC']\n",
      "[]\n",
      "['CGATC', 'CGATC']\n",
      "       0      1\n",
      "0  CGATC  CGATC\n",
      "1   None   None\n",
      "2  CGATC  CGATC\n"
     ]
    }
   ],
   "source": [
    "#Kernel cleared\n",
    "import re\n",
    "import pandas as pd\n",
    "\n",
    "ex_data = [[\"Patient 1\",13,800,900,0.4,20,\"ATCGATCGATCGATCGATCG\"],\n",
    "           [\"Patient 2\",8,450,520,0.8,20,\"GTCAGTCAGTCAGTCAGTCA\"],\n",
    "           [\"Patient 3\",1,200,340,1.3,20,\"TCGATCGATCGATCGATCGA\"]]\n",
    "\n",
    "ex_df = pd.DataFrame(ex_data,columns=[\"GCD ID\", \"Chromosome\", \"Start\", \"Stop\", \"CNV Intensity\", \"Length\", \"Sequence\"])\n",
    "print(ex_df)\n",
    "\n",
    "ex_regex = re.compile(r\"CGATC\")\n",
    "ex_list = []\n",
    "\n",
    "for row, col in ex_df.iterrows():\n",
    "    temp_list = []\n",
    "    ex_iter = ex_regex.finditer(col[\"Sequence\"])\n",
    "    for match in ex_iter:\n",
    "        temp_list.append(match.group())\n",
    "    print(temp_list)\n",
    "    ex_list.append(temp_list)\n",
    "new_dataframe = pd.DataFrame(ex_list)\n",
    "print(new_dataframe)"
   ]
  },
  {
   "cell_type": "code",
   "execution_count": 9,
   "metadata": {},
   "outputs": [
    {
     "name": "stdout",
     "output_type": "stream",
     "text": [
      "      GCD ID  Chromosome  Start  Stop  CNV Intensity  Length  \\\n",
      "0  Patient 1          13    800   900            0.4      20   \n",
      "1  Patient 2           8    450   520            0.8      20   \n",
      "2  Patient 3           1    200   340            1.3      20   \n",
      "\n",
      "                 Sequence  \n",
      "0    ATCGATCGATCGATCGATCG  \n",
      "1    GTCAGTCAGTCAGTCAGTCA  \n",
      "2  TCGATCGATCGAATCGAATCGA  \n",
      "['CGATC', 'CGATC']\n",
      "[]\n",
      "['CGATC']\n",
      "[['CGATC', 'CGATC'], [], ['CGATC']]\n",
      "       0      1\n",
      "0  CGATC  CGATC\n",
      "1   None   None\n",
      "2  CGATC   None\n"
     ]
    }
   ],
   "source": [
    "#Kernel cleared\n",
    "import re\n",
    "import pandas as pd\n",
    "\n",
    "ex_data = [[\"Patient 1\",13,800,900,0.4,20,\"ATCGATCGATCGATCGATCG\"],\n",
    "           [\"Patient 2\",8,450,520,0.8,20,\"GTCAGTCAGTCAGTCAGTCA\"],\n",
    "           [\"Patient 3\",1,200,340,1.3,20,\"TCGATCGATCGAATCGAATCGA\"]]\n",
    "\n",
    "ex_df = pd.DataFrame(ex_data,columns=[\"GCD ID\", \"Chromosome\", \"Start\", \"Stop\", \"CNV Intensity\", \"Length\", \"Sequence\"])\n",
    "print(ex_df)\n",
    "\n",
    "ex_regex = re.compile(r\"CGATC\")\n",
    "ex_list = []\n",
    "\n",
    "for row, col in ex_df.iterrows():\n",
    "    temp_list = []\n",
    "    for match in ex_regex.finditer(col[\"Sequence\"]):\n",
    "        temp_list.append(match.group())\n",
    "    print(temp_list)\n",
    "    ex_list.append(temp_list)\n",
    "print(ex_list)\n",
    "new_dataframe = pd.DataFrame(ex_list)\n",
    "print(new_dataframe)"
   ]
  },
  {
   "cell_type": "code",
   "execution_count": 14,
   "metadata": {},
   "outputs": [
    {
     "data": {
      "text/html": [
       "<style  type=\"text/css\" >\n",
       "</style><table id=\"T_c9a95260_85db_11ea_be34_3af9d3b8db59\" ><caption>Is This a Title?</caption><thead>    <tr>        <th class=\"blank level0\" ></th>        <th class=\"col_heading level0 col0\" >0</th>        <th class=\"col_heading level0 col1\" >1</th>    </tr></thead><tbody>\n",
       "                <tr>\n",
       "                        <th id=\"T_c9a95260_85db_11ea_be34_3af9d3b8db59level0_row0\" class=\"row_heading level0 row0\" >0</th>\n",
       "                        <td id=\"T_c9a95260_85db_11ea_be34_3af9d3b8db59row0_col0\" class=\"data row0 col0\" >CGATC</td>\n",
       "                        <td id=\"T_c9a95260_85db_11ea_be34_3af9d3b8db59row0_col1\" class=\"data row0 col1\" >CGATC</td>\n",
       "            </tr>\n",
       "            <tr>\n",
       "                        <th id=\"T_c9a95260_85db_11ea_be34_3af9d3b8db59level0_row1\" class=\"row_heading level0 row1\" >1</th>\n",
       "                        <td id=\"T_c9a95260_85db_11ea_be34_3af9d3b8db59row1_col0\" class=\"data row1 col0\" >None</td>\n",
       "                        <td id=\"T_c9a95260_85db_11ea_be34_3af9d3b8db59row1_col1\" class=\"data row1 col1\" >None</td>\n",
       "            </tr>\n",
       "            <tr>\n",
       "                        <th id=\"T_c9a95260_85db_11ea_be34_3af9d3b8db59level0_row2\" class=\"row_heading level0 row2\" >2</th>\n",
       "                        <td id=\"T_c9a95260_85db_11ea_be34_3af9d3b8db59row2_col0\" class=\"data row2 col0\" >CGATC</td>\n",
       "                        <td id=\"T_c9a95260_85db_11ea_be34_3af9d3b8db59row2_col1\" class=\"data row2 col1\" >None</td>\n",
       "            </tr>\n",
       "    </tbody></table>"
      ],
      "text/plain": [
       "<pandas.io.formats.style.Styler at 0x106112d10>"
      ]
     },
     "execution_count": 14,
     "metadata": {},
     "output_type": "execute_result"
    }
   ],
   "source": [
    "new_dataframe.style.set_caption(\"Is This a Title?\")"
   ]
  },
  {
   "cell_type": "code",
   "execution_count": 26,
   "metadata": {},
   "outputs": [
    {
     "name": "stdout",
     "output_type": "stream",
     "text": [
      "      GCD ID  Chromosome  Start  Stop  CNV Intensity  Length  \\\n",
      "0  Patient 1          13    800   900            0.4      20   \n",
      "1  Patient 2           8    450   520            0.8      20   \n",
      "2  Patient 3           1    200   340            1.3      20   \n",
      "\n",
      "                 Sequence  \n",
      "0    ATCGATCGATCGATCGATCG  \n",
      "1    GTCAGTCAGTCAGTCAGTCA  \n",
      "2  TCGATCGATCGAATCGAATCGA  \n",
      "['Patient 1', 'CGATC', 2, 7]\n",
      "['Patient 1', 'CGATC', 10, 15]\n",
      "-------\n",
      "[['Patient 1', 'CGATC', 2, 7], ['Patient 1', 'CGATC', 10, 15]]\n",
      "-------\n",
      "[]\n",
      "['Patient 3', 'CGATC', 1, 6]\n",
      "-------\n",
      "[['Patient 3', 'CGATC', 1, 6]]\n",
      "[[['Patient 1', 'CGATC', 2, 7], ['Patient 1', 'CGATC', 10, 15]], [], [['Patient 3', 'CGATC', 1, 6]]]\n"
     ]
    },
    {
     "data": {
      "text/html": [
       "<style  type=\"text/css\" >\n",
       "</style><table id=\"T_7c44edfe_85ea_11ea_be34_3af9d3b8db59\" ><caption>Is This a Title?</caption><thead>    <tr>        <th class=\"blank level0\" ></th>        <th class=\"col_heading level0 col0\" >0</th>        <th class=\"col_heading level0 col1\" >1</th>    </tr></thead><tbody>\n",
       "                <tr>\n",
       "                        <th id=\"T_7c44edfe_85ea_11ea_be34_3af9d3b8db59level0_row0\" class=\"row_heading level0 row0\" >0</th>\n",
       "                        <td id=\"T_7c44edfe_85ea_11ea_be34_3af9d3b8db59row0_col0\" class=\"data row0 col0\" >['Patient 1', 'CGATC', 2, 7]</td>\n",
       "                        <td id=\"T_7c44edfe_85ea_11ea_be34_3af9d3b8db59row0_col1\" class=\"data row0 col1\" >['Patient 1', 'CGATC', 10, 15]</td>\n",
       "            </tr>\n",
       "            <tr>\n",
       "                        <th id=\"T_7c44edfe_85ea_11ea_be34_3af9d3b8db59level0_row1\" class=\"row_heading level0 row1\" >1</th>\n",
       "                        <td id=\"T_7c44edfe_85ea_11ea_be34_3af9d3b8db59row1_col0\" class=\"data row1 col0\" >None</td>\n",
       "                        <td id=\"T_7c44edfe_85ea_11ea_be34_3af9d3b8db59row1_col1\" class=\"data row1 col1\" >None</td>\n",
       "            </tr>\n",
       "            <tr>\n",
       "                        <th id=\"T_7c44edfe_85ea_11ea_be34_3af9d3b8db59level0_row2\" class=\"row_heading level0 row2\" >2</th>\n",
       "                        <td id=\"T_7c44edfe_85ea_11ea_be34_3af9d3b8db59row2_col0\" class=\"data row2 col0\" >['Patient 3', 'CGATC', 1, 6]</td>\n",
       "                        <td id=\"T_7c44edfe_85ea_11ea_be34_3af9d3b8db59row2_col1\" class=\"data row2 col1\" >None</td>\n",
       "            </tr>\n",
       "    </tbody></table>"
      ],
      "text/plain": [
       "<pandas.io.formats.style.Styler at 0x1174e1f50>"
      ]
     },
     "execution_count": 26,
     "metadata": {},
     "output_type": "execute_result"
    }
   ],
   "source": [
    "ex_data = [[\"Patient 1\",13,800,900,0.4,20,\"ATCGATCGATCGATCGATCG\"],\n",
    "           [\"Patient 2\",8,450,520,0.8,20,\"GTCAGTCAGTCAGTCAGTCA\"],\n",
    "           [\"Patient 3\",1,200,340,1.3,20,\"TCGATCGATCGAATCGAATCGA\"]]\n",
    "\n",
    "ex_df = pd.DataFrame(ex_data,columns=[\"GCD ID\", \"Chromosome\", \"Start\", \"Stop\", \"CNV Intensity\", \"Length\", \"Sequence\"])\n",
    "print(ex_df)\n",
    "\n",
    "ex_regex = re.compile(r\"CGATC\")\n",
    "ex_list = []\n",
    "\n",
    "for row, col in ex_df.iterrows():\n",
    "    temp_list1 = []\n",
    "    for match in ex_regex.finditer(col[\"Sequence\"]):\n",
    "        temp_list2 = []\n",
    "        temp_list2.append(col[\"GCD ID\"])\n",
    "        temp_list2.append(match.group())\n",
    "        temp_list2.append(match.start())\n",
    "        temp_list2.append(match.end())\n",
    "        temp_list1.append(temp_list2)\n",
    "        print(temp_list2)\n",
    "    print(\"-------\")\n",
    "    print(temp_list1)\n",
    "    ex_list.append(temp_list1)\n",
    "print(ex_list)\n",
    "new_dataframe = pd.DataFrame(ex_list)\n",
    "new_dataframe.style.set_caption(\"Is This a Title?\")"
   ]
  },
  {
   "cell_type": "code",
   "execution_count": 27,
   "metadata": {},
   "outputs": [
    {
     "name": "stdout",
     "output_type": "stream",
     "text": [
      "      GCD ID  Chromosome  Start  Stop  CNV Intensity  Length  \\\n",
      "0  Patient 1          13    800   900            0.4      20   \n",
      "1  Patient 2           8    450   520            0.8      20   \n",
      "2  Patient 3           1    200   340            1.3      20   \n",
      "\n",
      "                 Sequence  \n",
      "0    ATCGATCGATCGATCGATCG  \n",
      "1    GTCAGTCAGTCAGTCAGTCA  \n",
      "2  TCGATCGATCGAATCGAATCGA  \n",
      "['Patient 1', 'CGATC', 2, 7]\n",
      "['Patient 1', 'CGATC', 10, 15]\n",
      "-------\n",
      "[]\n",
      "-------\n",
      "[]\n",
      "['Patient 3', 'CGATC', 1, 6]\n",
      "-------\n",
      "[]\n",
      "[['Patient 1', 'CGATC', 2, 7], ['Patient 1', 'CGATC', 10, 15], ['Patient 3', 'CGATC', 1, 6]]\n"
     ]
    },
    {
     "data": {
      "text/html": [
       "<style  type=\"text/css\" >\n",
       "</style><table id=\"T_c84d444e_85ea_11ea_be34_3af9d3b8db59\" ><caption>Is This a Title?</caption><thead>    <tr>        <th class=\"blank level0\" ></th>        <th class=\"col_heading level0 col0\" >0</th>        <th class=\"col_heading level0 col1\" >1</th>        <th class=\"col_heading level0 col2\" >2</th>        <th class=\"col_heading level0 col3\" >3</th>    </tr></thead><tbody>\n",
       "                <tr>\n",
       "                        <th id=\"T_c84d444e_85ea_11ea_be34_3af9d3b8db59level0_row0\" class=\"row_heading level0 row0\" >0</th>\n",
       "                        <td id=\"T_c84d444e_85ea_11ea_be34_3af9d3b8db59row0_col0\" class=\"data row0 col0\" >Patient 1</td>\n",
       "                        <td id=\"T_c84d444e_85ea_11ea_be34_3af9d3b8db59row0_col1\" class=\"data row0 col1\" >CGATC</td>\n",
       "                        <td id=\"T_c84d444e_85ea_11ea_be34_3af9d3b8db59row0_col2\" class=\"data row0 col2\" >2</td>\n",
       "                        <td id=\"T_c84d444e_85ea_11ea_be34_3af9d3b8db59row0_col3\" class=\"data row0 col3\" >7</td>\n",
       "            </tr>\n",
       "            <tr>\n",
       "                        <th id=\"T_c84d444e_85ea_11ea_be34_3af9d3b8db59level0_row1\" class=\"row_heading level0 row1\" >1</th>\n",
       "                        <td id=\"T_c84d444e_85ea_11ea_be34_3af9d3b8db59row1_col0\" class=\"data row1 col0\" >Patient 1</td>\n",
       "                        <td id=\"T_c84d444e_85ea_11ea_be34_3af9d3b8db59row1_col1\" class=\"data row1 col1\" >CGATC</td>\n",
       "                        <td id=\"T_c84d444e_85ea_11ea_be34_3af9d3b8db59row1_col2\" class=\"data row1 col2\" >10</td>\n",
       "                        <td id=\"T_c84d444e_85ea_11ea_be34_3af9d3b8db59row1_col3\" class=\"data row1 col3\" >15</td>\n",
       "            </tr>\n",
       "            <tr>\n",
       "                        <th id=\"T_c84d444e_85ea_11ea_be34_3af9d3b8db59level0_row2\" class=\"row_heading level0 row2\" >2</th>\n",
       "                        <td id=\"T_c84d444e_85ea_11ea_be34_3af9d3b8db59row2_col0\" class=\"data row2 col0\" >Patient 3</td>\n",
       "                        <td id=\"T_c84d444e_85ea_11ea_be34_3af9d3b8db59row2_col1\" class=\"data row2 col1\" >CGATC</td>\n",
       "                        <td id=\"T_c84d444e_85ea_11ea_be34_3af9d3b8db59row2_col2\" class=\"data row2 col2\" >1</td>\n",
       "                        <td id=\"T_c84d444e_85ea_11ea_be34_3af9d3b8db59row2_col3\" class=\"data row2 col3\" >6</td>\n",
       "            </tr>\n",
       "    </tbody></table>"
      ],
      "text/plain": [
       "<pandas.io.formats.style.Styler at 0x117419150>"
      ]
     },
     "execution_count": 27,
     "metadata": {},
     "output_type": "execute_result"
    }
   ],
   "source": [
    "ex_data = [[\"Patient 1\",13,800,900,0.4,20,\"ATCGATCGATCGATCGATCG\"],\n",
    "           [\"Patient 2\",8,450,520,0.8,20,\"GTCAGTCAGTCAGTCAGTCA\"],\n",
    "           [\"Patient 3\",1,200,340,1.3,20,\"TCGATCGATCGAATCGAATCGA\"]]\n",
    "\n",
    "ex_df = pd.DataFrame(ex_data,columns=[\"GCD ID\", \"Chromosome\", \"Start\", \"Stop\", \"CNV Intensity\", \"Length\", \"Sequence\"])\n",
    "print(ex_df)\n",
    "\n",
    "ex_regex = re.compile(r\"CGATC\")\n",
    "ex_list = []\n",
    "\n",
    "for row, col in ex_df.iterrows():\n",
    "    temp_list1 = []\n",
    "    for match in ex_regex.finditer(col[\"Sequence\"]):\n",
    "        temp_list2 = []\n",
    "        temp_list2.append(col[\"GCD ID\"])\n",
    "        temp_list2.append(match.group())\n",
    "        temp_list2.append(match.start())\n",
    "        temp_list2.append(match.end())\n",
    "        ex_list.append(temp_list2)\n",
    "        print(temp_list2)\n",
    "    print(\"-------\")\n",
    "    print(temp_list1)\n",
    "print(ex_list)\n",
    "new_dataframe = pd.DataFrame(ex_list)\n",
    "new_dataframe.style.set_caption(\"Is This a Title?\")"
   ]
  },
  {
   "cell_type": "code",
   "execution_count": 29,
   "metadata": {},
   "outputs": [
    {
     "name": "stdout",
     "output_type": "stream",
     "text": [
      "      GCD ID  Chromosome  Start  Stop  CNV Intensity  Length  \\\n",
      "0  Patient 1          13    800   900            0.4      20   \n",
      "1  Patient 2           8    450   520            0.8      20   \n",
      "2  Patient 3           1    200   340            1.3      20   \n",
      "\n",
      "                 Sequence  \n",
      "0    ATCGATCGATCGATCGATCG  \n",
      "1    GTCAGTCAGTCAGTCAGTCA  \n",
      "2  TCGATCGATCGAATCGAATCGA  \n",
      "['Patient 1', 'CGATC', 2, 7]\n",
      "['Patient 1', 'CGATC', 10, 15]\n",
      "-------\n",
      "[]\n",
      "-------\n",
      "[]\n",
      "['Patient 3', 'CGATC', 1, 6]\n",
      "-------\n",
      "[]\n",
      "[['Patient 1', 'CGATC', 2, 7], ['Patient 1', 'CGATC', 10, 15], ['Patient 3', 'CGATC', 1, 6]]\n"
     ]
    },
    {
     "data": {
      "text/html": [
       "<style  type=\"text/css\" >\n",
       "</style><table id=\"T_2d01fd0a_85ee_11ea_be34_3af9d3b8db59\" ><caption>Is This a Title?</caption><thead>    <tr>        <th class=\"blank level0\" ></th>        <th class=\"col_heading level0 col0\" >0</th>        <th class=\"col_heading level0 col1\" >1</th>        <th class=\"col_heading level0 col2\" >2</th>        <th class=\"col_heading level0 col3\" >3</th>    </tr></thead><tbody>\n",
       "                <tr>\n",
       "                        <th id=\"T_2d01fd0a_85ee_11ea_be34_3af9d3b8db59level0_row0\" class=\"row_heading level0 row0\" >0</th>\n",
       "                        <td id=\"T_2d01fd0a_85ee_11ea_be34_3af9d3b8db59row0_col0\" class=\"data row0 col0\" >Patient 1</td>\n",
       "                        <td id=\"T_2d01fd0a_85ee_11ea_be34_3af9d3b8db59row0_col1\" class=\"data row0 col1\" >CGATC</td>\n",
       "                        <td id=\"T_2d01fd0a_85ee_11ea_be34_3af9d3b8db59row0_col2\" class=\"data row0 col2\" >2</td>\n",
       "                        <td id=\"T_2d01fd0a_85ee_11ea_be34_3af9d3b8db59row0_col3\" class=\"data row0 col3\" >7</td>\n",
       "            </tr>\n",
       "            <tr>\n",
       "                        <th id=\"T_2d01fd0a_85ee_11ea_be34_3af9d3b8db59level0_row1\" class=\"row_heading level0 row1\" >1</th>\n",
       "                        <td id=\"T_2d01fd0a_85ee_11ea_be34_3af9d3b8db59row1_col0\" class=\"data row1 col0\" >Patient 1</td>\n",
       "                        <td id=\"T_2d01fd0a_85ee_11ea_be34_3af9d3b8db59row1_col1\" class=\"data row1 col1\" >CGATC</td>\n",
       "                        <td id=\"T_2d01fd0a_85ee_11ea_be34_3af9d3b8db59row1_col2\" class=\"data row1 col2\" >10</td>\n",
       "                        <td id=\"T_2d01fd0a_85ee_11ea_be34_3af9d3b8db59row1_col3\" class=\"data row1 col3\" >15</td>\n",
       "            </tr>\n",
       "            <tr>\n",
       "                        <th id=\"T_2d01fd0a_85ee_11ea_be34_3af9d3b8db59level0_row2\" class=\"row_heading level0 row2\" >2</th>\n",
       "                        <td id=\"T_2d01fd0a_85ee_11ea_be34_3af9d3b8db59row2_col0\" class=\"data row2 col0\" >Patient 3</td>\n",
       "                        <td id=\"T_2d01fd0a_85ee_11ea_be34_3af9d3b8db59row2_col1\" class=\"data row2 col1\" >CGATC</td>\n",
       "                        <td id=\"T_2d01fd0a_85ee_11ea_be34_3af9d3b8db59row2_col2\" class=\"data row2 col2\" >1</td>\n",
       "                        <td id=\"T_2d01fd0a_85ee_11ea_be34_3af9d3b8db59row2_col3\" class=\"data row2 col3\" >6</td>\n",
       "            </tr>\n",
       "    </tbody></table>"
      ],
      "text/plain": [
       "<pandas.io.formats.style.Styler at 0x117467e50>"
      ]
     },
     "execution_count": 29,
     "metadata": {},
     "output_type": "execute_result"
    }
   ],
   "source": [
    "ex_data = [[\"Patient 1\",13,800,900,0.4,20,\"ATCGATCGATCGATCGATCG\"],\n",
    "           [\"Patient 2\",8,450,520,0.8,20,\"GTCAGTCAGTCAGTCAGTCA\"],\n",
    "           [\"Patient 3\",1,200,340,1.3,20,\"TCGATCGATCGAATCGAATCGA\"]]\n",
    "\n",
    "ex_df = pd.DataFrame(ex_data,columns=[\"GCD ID\", \"Chromosome\", \"Start\", \"Stop\", \"CNV Intensity\", \"Length\", \"Sequence\"])\n",
    "print(ex_df)\n",
    "\n",
    "ex_regex = re.compile(r\"CGATC\")\n",
    "ex_list = []\n",
    "\n",
    "for row, col in ex_df.iterrows():\n",
    "    temp_list1 = []\n",
    "    ex_iter = ex_regex.finditer(col[\"Sequence\"])\n",
    "    if ex_iter:\n",
    "        for match in ex_iter:\n",
    "            temp_list2 = []\n",
    "            temp_list2.append(col[\"GCD ID\"])\n",
    "            temp_list2.append(match.group())\n",
    "            temp_list2.append(match.start())\n",
    "            temp_list2.append(match.end())\n",
    "            ex_list.append(temp_list2)\n",
    "            print(temp_list2)\n",
    "        print(\"-------\")\n",
    "        print(temp_list1)\n",
    "        \n",
    "print(ex_list)\n",
    "new_dataframe = pd.DataFrame(ex_list)\n",
    "new_dataframe.style.set_caption(\"Is This a Title?\")"
   ]
  },
  {
   "cell_type": "code",
   "execution_count": 31,
   "metadata": {},
   "outputs": [
    {
     "name": "stdout",
     "output_type": "stream",
     "text": [
      "      GCD ID  Chromosome  Start  Stop  CNV Intensity  Length  \\\n",
      "0  Patient 1          13    800   900            0.4      20   \n",
      "1  Patient 2           8    450   520            0.8      20   \n",
      "2  Patient 3           1    200   340            1.3      20   \n",
      "\n",
      "                 Sequence  \n",
      "0    ATCGATCGATCGATCGATCG  \n",
      "1    GTCAGTCAGTCAGTCAGTCA  \n",
      "2  TCGATCGATCGAATCGAATCGA  \n",
      "['Patient 1', 'CGATC', 2, 7]\n",
      "['Patient 1', 'CGATC', 10, 15]\n",
      "-------\n",
      "[]\n",
      "-------\n",
      "[]\n",
      "['Patient 3', 'CGATC', 1, 6]\n",
      "-------\n",
      "[]\n",
      "[['Patient 1', 'CGATC', 2, 7], ['Patient 1', 'CGATC', 10, 15], ['Patient 3', 'CGATC', 1, 6]]\n"
     ]
    },
    {
     "data": {
      "text/html": [
       "<style  type=\"text/css\" >\n",
       "</style><table id=\"T_71cad6c2_85ef_11ea_be34_3af9d3b8db59\" ><caption>Is This a Title?</caption><thead>    <tr>        <th class=\"blank level0\" ></th>        <th class=\"col_heading level0 col0\" >0</th>        <th class=\"col_heading level0 col1\" >1</th>        <th class=\"col_heading level0 col2\" >2</th>        <th class=\"col_heading level0 col3\" >3</th>    </tr></thead><tbody>\n",
       "                <tr>\n",
       "                        <th id=\"T_71cad6c2_85ef_11ea_be34_3af9d3b8db59level0_row0\" class=\"row_heading level0 row0\" >0</th>\n",
       "                        <td id=\"T_71cad6c2_85ef_11ea_be34_3af9d3b8db59row0_col0\" class=\"data row0 col0\" >Patient 1</td>\n",
       "                        <td id=\"T_71cad6c2_85ef_11ea_be34_3af9d3b8db59row0_col1\" class=\"data row0 col1\" >CGATC</td>\n",
       "                        <td id=\"T_71cad6c2_85ef_11ea_be34_3af9d3b8db59row0_col2\" class=\"data row0 col2\" >2</td>\n",
       "                        <td id=\"T_71cad6c2_85ef_11ea_be34_3af9d3b8db59row0_col3\" class=\"data row0 col3\" >7</td>\n",
       "            </tr>\n",
       "            <tr>\n",
       "                        <th id=\"T_71cad6c2_85ef_11ea_be34_3af9d3b8db59level0_row1\" class=\"row_heading level0 row1\" >1</th>\n",
       "                        <td id=\"T_71cad6c2_85ef_11ea_be34_3af9d3b8db59row1_col0\" class=\"data row1 col0\" >Patient 1</td>\n",
       "                        <td id=\"T_71cad6c2_85ef_11ea_be34_3af9d3b8db59row1_col1\" class=\"data row1 col1\" >CGATC</td>\n",
       "                        <td id=\"T_71cad6c2_85ef_11ea_be34_3af9d3b8db59row1_col2\" class=\"data row1 col2\" >10</td>\n",
       "                        <td id=\"T_71cad6c2_85ef_11ea_be34_3af9d3b8db59row1_col3\" class=\"data row1 col3\" >15</td>\n",
       "            </tr>\n",
       "            <tr>\n",
       "                        <th id=\"T_71cad6c2_85ef_11ea_be34_3af9d3b8db59level0_row2\" class=\"row_heading level0 row2\" >2</th>\n",
       "                        <td id=\"T_71cad6c2_85ef_11ea_be34_3af9d3b8db59row2_col0\" class=\"data row2 col0\" >Patient 3</td>\n",
       "                        <td id=\"T_71cad6c2_85ef_11ea_be34_3af9d3b8db59row2_col1\" class=\"data row2 col1\" >CGATC</td>\n",
       "                        <td id=\"T_71cad6c2_85ef_11ea_be34_3af9d3b8db59row2_col2\" class=\"data row2 col2\" >1</td>\n",
       "                        <td id=\"T_71cad6c2_85ef_11ea_be34_3af9d3b8db59row2_col3\" class=\"data row2 col3\" >6</td>\n",
       "            </tr>\n",
       "    </tbody></table>"
      ],
      "text/plain": [
       "<pandas.io.formats.style.Styler at 0x117475390>"
      ]
     },
     "execution_count": 31,
     "metadata": {},
     "output_type": "execute_result"
    }
   ],
   "source": [
    "ex_data = [[\"Patient 1\",13,800,900,0.4,20,\"ATCGATCGATCGATCGATCG\"],\n",
    "           [\"Patient 2\",8,450,520,0.8,20,\"GTCAGTCAGTCAGTCAGTCA\"],\n",
    "           [\"Patient 3\",1,200,340,1.3,20,\"TCGATCGATCGAATCGAATCGA\"]]\n",
    "\n",
    "ex_df = pd.DataFrame(ex_data,columns=[\"GCD ID\", \"Chromosome\", \"Start\", \"Stop\", \"CNV Intensity\", \"Length\", \"Sequence\"])\n",
    "print(ex_df)\n",
    "\n",
    "ex_regex = re.compile(r\"CGATC\")\n",
    "ex_list = []\n",
    "\n",
    "for row, col in ex_df.iterrows():\n",
    "    temp_list1 = []\n",
    "    ex_iter = ex_regex.finditer(col[\"Sequence\"])\n",
    "    if ex_iter:\n",
    "        for match in ex_iter:\n",
    "            temp_list2 = []\n",
    "            temp_list2.append(col[\"GCD ID\"])\n",
    "            temp_list2.append(match.group())\n",
    "            temp_list2.append(match.start())\n",
    "            temp_list2.append(match.end())\n",
    "            ex_list.append(temp_list2)\n",
    "            print(temp_list2)\n",
    "        print(\"-------\")\n",
    "        print(temp_list1)\n",
    "        \n",
    "print(ex_list)\n",
    "new_dataframe = pd.DataFrame(ex_list)\n",
    "new_dataframe.style.set_caption(\"Is This a Title?\")"
   ]
  },
  {
   "cell_type": "code",
   "execution_count": 32,
   "metadata": {},
   "outputs": [
    {
     "name": "stdout",
     "output_type": "stream",
     "text": [
      "      GCD ID  Chromosome  Start  Stop  CNV Intensity  Length  \\\n",
      "0  Patient 1          13    800   900            0.4      20   \n",
      "1  Patient 2           8    450   520            0.8      20   \n",
      "2  Patient 3           1    200   340            1.3      20   \n",
      "\n",
      "                 Sequence  \n",
      "0    ATCGATCGATCGATCGATCG  \n",
      "1    GTCAGTCAGTCAGTCAGTCA  \n",
      "2  TCGATCGATCGAATCGAATCGA  \n",
      "['Patient 1', 'CGATC', 3, 8]\n",
      "['Patient 1', 'CGATC', 11, 16]\n",
      "-------\n",
      "[]\n",
      "-------\n",
      "[]\n",
      "['Patient 3', 'CGATC', 2, 7]\n",
      "-------\n",
      "[]\n",
      "[['Patient 1', 'CGATC', 3, 8], ['Patient 1', 'CGATC', 11, 16], ['Patient 3', 'CGATC', 2, 7]]\n"
     ]
    },
    {
     "data": {
      "text/html": [
       "<style  type=\"text/css\" >\n",
       "</style><table id=\"T_2c99ca58_85f0_11ea_be34_3af9d3b8db59\" ><caption>Is This a Title?</caption><thead>    <tr>        <th class=\"blank level0\" ></th>        <th class=\"col_heading level0 col0\" >0</th>        <th class=\"col_heading level0 col1\" >1</th>        <th class=\"col_heading level0 col2\" >2</th>        <th class=\"col_heading level0 col3\" >3</th>    </tr></thead><tbody>\n",
       "                <tr>\n",
       "                        <th id=\"T_2c99ca58_85f0_11ea_be34_3af9d3b8db59level0_row0\" class=\"row_heading level0 row0\" >0</th>\n",
       "                        <td id=\"T_2c99ca58_85f0_11ea_be34_3af9d3b8db59row0_col0\" class=\"data row0 col0\" >Patient 1</td>\n",
       "                        <td id=\"T_2c99ca58_85f0_11ea_be34_3af9d3b8db59row0_col1\" class=\"data row0 col1\" >CGATC</td>\n",
       "                        <td id=\"T_2c99ca58_85f0_11ea_be34_3af9d3b8db59row0_col2\" class=\"data row0 col2\" >3</td>\n",
       "                        <td id=\"T_2c99ca58_85f0_11ea_be34_3af9d3b8db59row0_col3\" class=\"data row0 col3\" >8</td>\n",
       "            </tr>\n",
       "            <tr>\n",
       "                        <th id=\"T_2c99ca58_85f0_11ea_be34_3af9d3b8db59level0_row1\" class=\"row_heading level0 row1\" >1</th>\n",
       "                        <td id=\"T_2c99ca58_85f0_11ea_be34_3af9d3b8db59row1_col0\" class=\"data row1 col0\" >Patient 1</td>\n",
       "                        <td id=\"T_2c99ca58_85f0_11ea_be34_3af9d3b8db59row1_col1\" class=\"data row1 col1\" >CGATC</td>\n",
       "                        <td id=\"T_2c99ca58_85f0_11ea_be34_3af9d3b8db59row1_col2\" class=\"data row1 col2\" >11</td>\n",
       "                        <td id=\"T_2c99ca58_85f0_11ea_be34_3af9d3b8db59row1_col3\" class=\"data row1 col3\" >16</td>\n",
       "            </tr>\n",
       "            <tr>\n",
       "                        <th id=\"T_2c99ca58_85f0_11ea_be34_3af9d3b8db59level0_row2\" class=\"row_heading level0 row2\" >2</th>\n",
       "                        <td id=\"T_2c99ca58_85f0_11ea_be34_3af9d3b8db59row2_col0\" class=\"data row2 col0\" >Patient 3</td>\n",
       "                        <td id=\"T_2c99ca58_85f0_11ea_be34_3af9d3b8db59row2_col1\" class=\"data row2 col1\" >CGATC</td>\n",
       "                        <td id=\"T_2c99ca58_85f0_11ea_be34_3af9d3b8db59row2_col2\" class=\"data row2 col2\" >2</td>\n",
       "                        <td id=\"T_2c99ca58_85f0_11ea_be34_3af9d3b8db59row2_col3\" class=\"data row2 col3\" >7</td>\n",
       "            </tr>\n",
       "    </tbody></table>"
      ],
      "text/plain": [
       "<pandas.io.formats.style.Styler at 0x117421a90>"
      ]
     },
     "execution_count": 32,
     "metadata": {},
     "output_type": "execute_result"
    }
   ],
   "source": [
    "ex_data = [[\"Patient 1\",13,800,900,0.4,20,\"ATCGATCGATCGATCGATCG\"],\n",
    "           [\"Patient 2\",8,450,520,0.8,20,\"GTCAGTCAGTCAGTCAGTCA\"],\n",
    "           [\"Patient 3\",1,200,340,1.3,20,\"TCGATCGATCGAATCGAATCGA\"]]\n",
    "\n",
    "ex_df = pd.DataFrame(ex_data,columns=[\"GCD ID\", \"Chromosome\", \"Start\", \"Stop\", \"CNV Intensity\", \"Length\", \"Sequence\"])\n",
    "print(ex_df)\n",
    "\n",
    "ex_regex = re.compile(r\"CGATC\")\n",
    "ex_list = []\n",
    "\n",
    "for row, col in ex_df.iterrows():\n",
    "    temp_list1 = []\n",
    "    ex_iter = ex_regex.finditer(col[\"Sequence\"])\n",
    "    if ex_iter:\n",
    "        for match in ex_iter:\n",
    "            temp_list2 = []\n",
    "            temp_list2.append(col[\"GCD ID\"])\n",
    "            temp_list2.append(match.group())\n",
    "            temp_list2.append(match.start()+1)\n",
    "            temp_list2.append(match.end()+1)\n",
    "            ex_list.append(temp_list2)\n",
    "            print(temp_list2)\n",
    "        print(\"-------\")\n",
    "        print(temp_list1)\n",
    "        \n",
    "print(ex_list)\n",
    "new_dataframe = pd.DataFrame(ex_list)\n",
    "new_dataframe.style.set_caption(\"Is This a Title?\")"
   ]
  },
  {
   "cell_type": "code",
   "execution_count": 15,
   "metadata": {},
   "outputs": [
    {
     "name": "stdout",
     "output_type": "stream",
     "text": [
      "    GDC Aliquot  Chromosome  Start   End  Segment Mean  Length  \\\n",
      "0   CNV1 (BKLT)           1    345   892             1     106   \n",
      "1  CNV2 (EBNA1)           4    200   450             1     102   \n",
      "2    CNV3 (HPV)          12    600   999             1     109   \n",
      "3  CNV4 (Empty)          16    800  1244             1     108   \n",
      "\n",
      "                                            Sequence  \n",
      "0  TGAGTGAAGCTCCAATGAGAGGCATCGGTAAGATCCTCAGATCCGA...  \n",
      "1  TCGGATGAGTGCGAGAGATCACAGCAGGTAGCATCGGCTATCGTGG...  \n",
      "2  GTGAGATGAAGAGTGAATGGTTCGAGACTATGGTGAAGAGTTATGA...  \n",
      "3  GTGAGAGTGGTGAGAGTGAGTCCGTCGACAGCTCGACAGTCACGTA...  \n",
      "2\n",
      "['CNV1 (BKLT)', 18.867924528301888]\n",
      "0\n",
      "['CNV1 (BKLT)', 18.867924528301888, 0.0]\n",
      "0\n",
      "['CNV1 (BKLT)', 18.867924528301888, 0.0, 0.0]\n",
      "0\n",
      "['CNV1 (BKLT)', 18.867924528301888, 0.0, 0.0, 0.0]\n",
      "0\n",
      "['CNV2 (EBNA1)', 0.0]\n",
      "2\n",
      "['CNV2 (EBNA1)', 0.0, 19.607843137254903]\n",
      "0\n",
      "['CNV2 (EBNA1)', 0.0, 19.607843137254903, 0.0]\n",
      "0\n",
      "['CNV2 (EBNA1)', 0.0, 19.607843137254903, 0.0, 0.0]\n",
      "0\n",
      "['CNV3 (HPV)', 0.0]\n",
      "0\n",
      "['CNV3 (HPV)', 0.0, 0.0]\n",
      "1\n",
      "['CNV3 (HPV)', 0.0, 0.0, 9.174311926605505]\n",
      "1\n",
      "['CNV3 (HPV)', 0.0, 0.0, 9.174311926605505, 9.174311926605505]\n",
      "0\n",
      "['CNV4 (Empty)', 0.0]\n",
      "0\n",
      "['CNV4 (Empty)', 0.0, 0.0]\n",
      "0\n",
      "['CNV4 (Empty)', 0.0, 0.0, 0.0]\n",
      "0\n",
      "['CNV4 (Empty)', 0.0, 0.0, 0.0, 0.0]\n"
     ]
    },
    {
     "data": {
      "text/html": [
       "<style  type=\"text/css\" >\n",
       "</style><table id=\"T_484778e2_88d2_11ea_84dc_3af9d3b8db59\" ><caption>Virus Binding Scores</caption><thead>    <tr>        <th class=\"blank level0\" ></th>        <th class=\"col_heading level0 col0\" >CNV ID</th>        <th class=\"col_heading level0 col1\" >BKPyV LT</th>        <th class=\"col_heading level0 col2\" >EBNA1</th>        <th class=\"col_heading level0 col3\" >HPV E1</th>        <th class=\"col_heading level0 col4\" >HPV E2</th>    </tr></thead><tbody>\n",
       "                <tr>\n",
       "                        <th id=\"T_484778e2_88d2_11ea_84dc_3af9d3b8db59level0_row0\" class=\"row_heading level0 row0\" >0</th>\n",
       "                        <td id=\"T_484778e2_88d2_11ea_84dc_3af9d3b8db59row0_col0\" class=\"data row0 col0\" >CNV1 (BKLT)</td>\n",
       "                        <td id=\"T_484778e2_88d2_11ea_84dc_3af9d3b8db59row0_col1\" class=\"data row0 col1\" >18.8679</td>\n",
       "                        <td id=\"T_484778e2_88d2_11ea_84dc_3af9d3b8db59row0_col2\" class=\"data row0 col2\" >0</td>\n",
       "                        <td id=\"T_484778e2_88d2_11ea_84dc_3af9d3b8db59row0_col3\" class=\"data row0 col3\" >0</td>\n",
       "                        <td id=\"T_484778e2_88d2_11ea_84dc_3af9d3b8db59row0_col4\" class=\"data row0 col4\" >0</td>\n",
       "            </tr>\n",
       "            <tr>\n",
       "                        <th id=\"T_484778e2_88d2_11ea_84dc_3af9d3b8db59level0_row1\" class=\"row_heading level0 row1\" >1</th>\n",
       "                        <td id=\"T_484778e2_88d2_11ea_84dc_3af9d3b8db59row1_col0\" class=\"data row1 col0\" >CNV2 (EBNA1)</td>\n",
       "                        <td id=\"T_484778e2_88d2_11ea_84dc_3af9d3b8db59row1_col1\" class=\"data row1 col1\" >0</td>\n",
       "                        <td id=\"T_484778e2_88d2_11ea_84dc_3af9d3b8db59row1_col2\" class=\"data row1 col2\" >19.6078</td>\n",
       "                        <td id=\"T_484778e2_88d2_11ea_84dc_3af9d3b8db59row1_col3\" class=\"data row1 col3\" >0</td>\n",
       "                        <td id=\"T_484778e2_88d2_11ea_84dc_3af9d3b8db59row1_col4\" class=\"data row1 col4\" >0</td>\n",
       "            </tr>\n",
       "            <tr>\n",
       "                        <th id=\"T_484778e2_88d2_11ea_84dc_3af9d3b8db59level0_row2\" class=\"row_heading level0 row2\" >2</th>\n",
       "                        <td id=\"T_484778e2_88d2_11ea_84dc_3af9d3b8db59row2_col0\" class=\"data row2 col0\" >CNV3 (HPV)</td>\n",
       "                        <td id=\"T_484778e2_88d2_11ea_84dc_3af9d3b8db59row2_col1\" class=\"data row2 col1\" >0</td>\n",
       "                        <td id=\"T_484778e2_88d2_11ea_84dc_3af9d3b8db59row2_col2\" class=\"data row2 col2\" >0</td>\n",
       "                        <td id=\"T_484778e2_88d2_11ea_84dc_3af9d3b8db59row2_col3\" class=\"data row2 col3\" >9.17431</td>\n",
       "                        <td id=\"T_484778e2_88d2_11ea_84dc_3af9d3b8db59row2_col4\" class=\"data row2 col4\" >9.17431</td>\n",
       "            </tr>\n",
       "            <tr>\n",
       "                        <th id=\"T_484778e2_88d2_11ea_84dc_3af9d3b8db59level0_row3\" class=\"row_heading level0 row3\" >3</th>\n",
       "                        <td id=\"T_484778e2_88d2_11ea_84dc_3af9d3b8db59row3_col0\" class=\"data row3 col0\" >CNV4 (Empty)</td>\n",
       "                        <td id=\"T_484778e2_88d2_11ea_84dc_3af9d3b8db59row3_col1\" class=\"data row3 col1\" >0</td>\n",
       "                        <td id=\"T_484778e2_88d2_11ea_84dc_3af9d3b8db59row3_col2\" class=\"data row3 col2\" >0</td>\n",
       "                        <td id=\"T_484778e2_88d2_11ea_84dc_3af9d3b8db59row3_col3\" class=\"data row3 col3\" >0</td>\n",
       "                        <td id=\"T_484778e2_88d2_11ea_84dc_3af9d3b8db59row3_col4\" class=\"data row3 col4\" >0</td>\n",
       "            </tr>\n",
       "    </tbody></table>"
      ],
      "text/plain": [
       "<pandas.io.formats.style.Styler at 0x11533df10>"
      ]
     },
     "execution_count": 15,
     "metadata": {},
     "output_type": "execute_result"
    }
   ],
   "source": [
    "import pandas as pd\n",
    "\n",
    "#Testing the VBS table\n",
    "VBS_list = []\n",
    "BKLT_VBS_count = 0\n",
    "EBNA1_VBS_count = 0\n",
    "HPVE1_VBS_count = 0\n",
    "HPVE2_VBS_count = 0\n",
    "\n",
    "# Make test dataframe\n",
    "test_dataframe_list = [\n",
    "    [\"CNV1 (BKLT)\", 1, 345, 892, 1, 106, \"TGAGTGAAGCTCCAATGAGAGGCATCGGTAAGATCCTCAGATCCGATCAGGCCTCGGTCGAATGTTTACGATGGGGCATCGGTGAGGCCCCGTGAGTGAAGTGGGA\"],\n",
    "    [\"CNV2 (EBNA1)\", 4, 200, 450, 1, 102, \"TCGGATGAGTGCGAGAGATCACAGCAGGTAGCATCGGCTATCGTGGTTACATACGCATTGCATGCAGAGGATAGCTGATGCTACCGTGGAGTGCAGCGTGAA\"],\n",
    "    [\"CNV3 (HPV)\", 12, 600, 999, 1, 109, \"GTGAGATGAAGAGTGAATGGTTCGAGACTATGGTGAAGAGTTATGATAGATGTGAGATGATGAACCGATCGCGGTGTTGAAGTGAGAACCGGGCGGTGTTGAGATGAGA\"],\n",
    "    [\"CNV4 (Empty)\", 16, 800, 1244, 1, 108, \"GTGAGAGTGGTGAGAGTGAGTCCGTCGACAGCTCGACAGTCACGTAGCTACGTCAGATCAGTGAGATCAGTACAGTGTGCACGATCAGTGCACGTGATGCAACGAAAA\"]\n",
    "]\n",
    "test_dataframe = pd.DataFrame(test_dataframe_list, columns = [\"GDC Aliquot\", \"Chromosome\", \"Start\", \"End\", \"Segment Mean\", \"Length\", \"Sequence\"])\n",
    "print(test_dataframe)\n",
    "\n",
    "# Establish degenerate virus regex sequences as variables\n",
    "import re\n",
    "\n",
    "BK_LT = re.compile(r\"G[AG]GGC[ATCG]{1,30}GCC[CT]C\")\n",
    "EBNA1 = re.compile(r\"G[AG]TAGC[ATCG]{4}GCTA[CT]C\")\n",
    "HPV_E1 = re.compile(r\"AT[AGT]G[CT]{2}[ATCG]{3}[AG]{2}C[ACT]AT\")\n",
    "HPV_E2 = re.compile(r\"ACCG[ATCG]{4}CGGT\")\n",
    "\n",
    "# Find virus sequences in input_sequence with re.finditer\n",
    "for index, row in test_dataframe.iterrows():\n",
    "    #Reset list of CNV VBSs for each new CNV and label with new CNV name\n",
    "    CNV_VBS = []\n",
    "    CNV_VBS.append(row[\"GDC Aliquot\"])\n",
    "    #Reset VBS counts for each new CNV\n",
    "    BKLT_VBS_count = 0\n",
    "    EBNA1_VBS_count = 0\n",
    "    HPVE1_VBS_count = 0\n",
    "    HPVE2_VBS_count = 0\n",
    "    \n",
    "    BK_iter = BK_LT.finditer(row[\"Sequence\"])\n",
    "    if BK_iter:\n",
    "        for match in BK_iter:\n",
    "            #Adding 1 to numerator of VBS count for each CNV every time a match is found\n",
    "            BKLT_VBS_count += 1\n",
    "    #Adding total BK VBS to list of VBSs for this CNV\n",
    "    CNV_VBS.append(BKLT_VBS_count/(row[\"Length\"]/1000))\n",
    "    print(BKLT_VBS_count)\n",
    "    print(CNV_VBS)\n",
    "    \n",
    "    EBNA1_iter = EBNA1.finditer(row[\"Sequence\"])\n",
    "    if EBNA1_iter:\n",
    "        for match in EBNA1_iter:\n",
    "            #Adding 1 to numerator of VBS count for each CNV every time a match is found\n",
    "            EBNA1_VBS_count += 1\n",
    "    #Adding total EBNA1 to list of VBSs for this CNV\n",
    "    CNV_VBS.append(EBNA1_VBS_count/(row[\"Length\"]/1000))\n",
    "    print(EBNA1_VBS_count)\n",
    "    print(CNV_VBS)\n",
    "    \n",
    "    HPVE1_iter = HPV_E1.finditer(row[\"Sequence\"])\n",
    "    if HPVE1_iter:\n",
    "        for match in HPVE1_iter:\n",
    "            #Adding 1 to numerator of VBS count for each CNV every time a match is found\n",
    "            HPVE1_VBS_count += 1\n",
    "    #Adding total HPV E1 to list of VBSs for this CNV\n",
    "    CNV_VBS.append(HPVE1_VBS_count/(row[\"Length\"]/1000))\n",
    "    print(HPVE1_VBS_count)\n",
    "    print(CNV_VBS)\n",
    "    \n",
    "    HPVE2_iter = HPV_E2.finditer(row[\"Sequence\"])\n",
    "    if HPVE2_iter:\n",
    "        for match in HPVE2_iter:\n",
    "            #Adding 1 to numerator of VBS count for each CNV every time a match is found\n",
    "            HPVE2_VBS_count += 1\n",
    "    #Adding total HPV E2 to list of VBSs for this CNV\n",
    "    CNV_VBS.append(HPVE2_VBS_count/(row[\"Length\"]/1000))\n",
    "    print(HPVE2_VBS_count)\n",
    "    print(CNV_VBS)\n",
    "    \n",
    "    #Adding list of all VBSs for this CNV to the list of lists\n",
    "    VBS_list.append(CNV_VBS)\n",
    "\n",
    "# Turn list of lists into pandas dataframes\n",
    "VBS_table = pd.DataFrame(VBS_list, columns=[\"CNV ID\", \"BKPyV LT\", \"EBNA1\", \"HPV E1\", \"HPV E2\"])\n",
    "VBS_table.style.set_caption(\"Virus Binding Scores\")"
   ]
  },
  {
   "cell_type": "code",
   "execution_count": null,
   "metadata": {},
   "outputs": [],
   "source": []
  }
 ],
 "metadata": {
  "kernelspec": {
   "display_name": "Python 3",
   "language": "python",
   "name": "python3"
  },
  "language_info": {
   "codemirror_mode": {
    "name": "ipython",
    "version": 3
   },
   "file_extension": ".py",
   "mimetype": "text/x-python",
   "name": "python",
   "nbconvert_exporter": "python",
   "pygments_lexer": "ipython3",
   "version": "3.7.4"
  }
 },
 "nbformat": 4,
 "nbformat_minor": 4
}
