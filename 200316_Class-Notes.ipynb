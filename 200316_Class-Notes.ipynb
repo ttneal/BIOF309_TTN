{
 "cells": [
  {
   "cell_type": "code",
   "execution_count": 1,
   "metadata": {},
   "outputs": [
    {
     "ename": "SyntaxError",
     "evalue": "invalid syntax (<ipython-input-1-f52dfad33a34>, line 80)",
     "output_type": "error",
     "traceback": [
      "\u001b[0;36m  File \u001b[0;32m\"<ipython-input-1-f52dfad33a34>\"\u001b[0;36m, line \u001b[0;32m80\u001b[0m\n\u001b[0;31m    if (square := x**2) < maximum\u001b[0m\n\u001b[0m               ^\u001b[0m\n\u001b[0;31mSyntaxError\u001b[0m\u001b[0;31m:\u001b[0m invalid syntax\n"
     ]
    }
   ],
   "source": [
    "# Two types of arguments:\n",
    "# 1. Positional\n",
    "# 2. Keyword (named)\n",
    "\n",
    "print(\n",
    "    # Positional\n",
    "    \"hello\", \"my\", \"name\", \"is\", \"Martin\",\n",
    "    # Keyword\n",
    "    end=\"!\", sep=\"\\n\" \n",
    ")\n",
    "\n",
    "# Import complex types from typing module\n",
    "from typing import Optional, List\n",
    "\n",
    "# Set default argument to None\n",
    "# Optional[List] means the function returns a list or None\n",
    "def get_list(input_list=None) -> Optional[List]:\n",
    "    \"\"\"Docstring\"\"\"\n",
    "    if input_list is None:\n",
    "        print(\"input_list is None\")\n",
    "    elif not input_list:\n",
    "        print(\"input_list is empty\")\n",
    "    else:\n",
    "        return input_list\n",
    "\n",
    "get_list(None)\n",
    "get_list([])\n",
    "get_list([1, 2, 3])\n",
    "\n",
    "# Two types of functions:\n",
    "# 1. Global\n",
    "# 2. Method\n",
    "\n",
    "# 1. Global\n",
    "sum(range(9))\n",
    "min(range(9))\n",
    "max(range(9))\n",
    "\n",
    "# 2. Method\n",
    "\" \".join(\"a b c\".split())\n",
    "\n",
    "x = 5\n",
    "\n",
    "# Conditional expression (ternary operator)\n",
    "x**2 if x > 4 else x\n",
    "\n",
    "# Conditional statement\n",
    "if x > 4:\n",
    "    print(x**2)\n",
    "else:\n",
    "    print(x)\n",
    "\n",
    "# Use list comprehensions instead of map (a builtin function)\n",
    "large_even_squares_or_small_even_numbers = [\n",
    "    # what you want (can use ternary operator)\n",
    "    x**2 if x > 4 else x\n",
    "    # how you iterate to get it\n",
    "    for x in range(9)\n",
    "    # how you remove what you don't want\n",
    "    if x**2 % 2 == 0\n",
    "]\n",
    "large_squares_or_just_the_numbers\n",
    "\n",
    "# Use a list comprehension inside a function\n",
    "def sum_small_even_squares(start, stop, maximum):\n",
    "    return sum(\n",
    "        x**2\n",
    "        for x in range(start, stop)\n",
    "        if x**2 < threshold\n",
    "        and x**2 % 2 == 0\n",
    "    )\n",
    "\n",
    "# Use an assignment expression (python >= 3.8 only),\n",
    "# also known as the walrus operator,\n",
    "# to avoid calculating x**2 three times\n",
    "def sum_small_even_squares(start, stop, maximum):\n",
    "    return sum(\n",
    "        square\n",
    "        for x in range(start, stop)\n",
    "        if (square := x**2) < maximum\n",
    "        if square % 2 == 0\n",
    "    )\n",
    "\n",
    "sum_small_even_squares(0, 9, 20)\n",
    "\n",
    "# args\n",
    "def multiply(*args):\n",
    "    product = 1\n",
    "    for num in args:\n",
    "        product *= num\n",
    "    print(product)\n",
    "\n",
    "multiply(4, 5, 6) # Prints 120!\n",
    "\n",
    "# You can do the same with np.prod\n",
    "import numpy as np\n",
    "np.prod(4, 5, 6)\n",
    "# or with math.prod (python >= 3.8 only)\n",
    "import math\n",
    "math.prod(4, 5, 6)\n",
    "\n",
    "# Pass keyword arguments after positional arguments\n",
    "def abs_mult(*args, absolute=True):\n",
    "    product = np.prod(args)\n",
    "    return abs(product) if absolute else product"
   ]
  },
  {
   "cell_type": "code",
   "execution_count": 2,
   "metadata": {},
   "outputs": [],
   "source": [
    "# Two types of arguments:\n",
    "# 1. Positional\n",
    "# 2. Keyword (named)"
   ]
  },
  {
   "cell_type": "code",
   "execution_count": 4,
   "metadata": {},
   "outputs": [
    {
     "name": "stdout",
     "output_type": "stream",
     "text": [
      "hello\n",
      "my\n",
      "name\n",
      "is\n",
      "Martin!"
     ]
    }
   ],
   "source": [
    "print(\n",
    "    # Positional (order does matter, and must be passed before keyword arguments)\n",
    "    \"hello\", \"my\", \"name\", \"is\", \"Martin\",\n",
    "    # Keyword (order does not matter)\n",
    "    end=\"!\", sep=\"\\n\" \n",
    ")"
   ]
  },
  {
   "cell_type": "code",
   "execution_count": 24,
   "metadata": {},
   "outputs": [],
   "source": [
    "# Import complex types from typing module\n",
    "from typing import Optional, List\n",
    "\n",
    "# Set default argument to None\n",
    "# Optional[List] means the function returns a list or None\n",
    "def get_list(input_list=None) -> Optional[List]:\n",
    "    \"\"\"Docstring\"\"\"\n",
    "    if input_list is None:\n",
    "        print(\"input_list is None\")\n",
    "    elif not input_list:\n",
    "        print(\"input_list is empty\")\n",
    "    else:\n",
    "        return input_list"
   ]
  },
  {
   "cell_type": "code",
   "execution_count": 7,
   "metadata": {},
   "outputs": [
    {
     "name": "stdout",
     "output_type": "stream",
     "text": [
      "input_list is None\n"
     ]
    }
   ],
   "source": [
    "get_list()"
   ]
  },
  {
   "cell_type": "code",
   "execution_count": 9,
   "metadata": {},
   "outputs": [
    {
     "name": "stdout",
     "output_type": "stream",
     "text": [
      "input_list is None\n"
     ]
    }
   ],
   "source": [
    "get_list(None)"
   ]
  },
  {
   "cell_type": "code",
   "execution_count": 10,
   "metadata": {},
   "outputs": [
    {
     "name": "stdout",
     "output_type": "stream",
     "text": [
      "input_list is empty\n"
     ]
    }
   ],
   "source": [
    "get_list([])"
   ]
  },
  {
   "cell_type": "code",
   "execution_count": 23,
   "metadata": {},
   "outputs": [],
   "source": [
    "## Sequences (strings, lists, sets, tuples, dictionaries):\n",
    "# non-empty sequences are truthy (considered True)\n",
    "# empty sequences are falsy (considered False)\n",
    "# None is falsy (considered False)\n",
    "# Only looks in first level to check truthiness (this [] is checked but [[]] is only checked on the outermost brackets)\n",
    "\n",
    "## Numbers (int, float)\n",
    "# non-zero = truthy\n",
    "# zero = falsy\n",
    "\n",
    "## None = falsy"
   ]
  },
  {
   "cell_type": "code",
   "execution_count": 18,
   "metadata": {},
   "outputs": [
    {
     "data": {
      "text/plain": [
       "'truthy'"
      ]
     },
     "execution_count": 18,
     "metadata": {},
     "output_type": "execute_result"
    }
   ],
   "source": [
    "input_seq = {\"k\": \"v\"}\n",
    "# ternary operator (conditional expression)\n",
    "# part 1     part 2        part 3\n",
    "# if true,  condition,    if false\n",
    "\"truthy\" if input_seq else \"falsy\""
   ]
  },
  {
   "cell_type": "code",
   "execution_count": 19,
   "metadata": {},
   "outputs": [],
   "source": [
    "#Better version:\n",
    "def get_list(input_list=None) -> Optional[List]:\n",
    "    \"\"\"Docstring\"\"\"\n",
    "    if input_list:\n",
    "        return input_list\n",
    "    elif not input_list:\n",
    "        print(\"input_list is empty\")\n",
    "    else:\n",
    "        print(\"input_list is None\")"
   ]
  },
  {
   "cell_type": "code",
   "execution_count": 20,
   "metadata": {},
   "outputs": [
    {
     "data": {
      "text/plain": [
       "[1, 2, 3]"
      ]
     },
     "execution_count": 20,
     "metadata": {},
     "output_type": "execute_result"
    }
   ],
   "source": [
    "get_list([1, 2, 3])"
   ]
  },
  {
   "cell_type": "code",
   "execution_count": 25,
   "metadata": {},
   "outputs": [
    {
     "data": {
      "text/plain": [
       "8"
      ]
     },
     "execution_count": 25,
     "metadata": {},
     "output_type": "execute_result"
    }
   ],
   "source": [
    "# Callables: Classes, Functions\n",
    "# Two types of functions:\n",
    "# 1. Global\n",
    "# 2. Method\n",
    "\n",
    "# 1. Global\n",
    "sum(range(9))\n",
    "min(range(9))\n",
    "max(range(9))\n",
    "\n",
    "# built-ins"
   ]
  },
  {
   "cell_type": "code",
   "execution_count": 29,
   "metadata": {},
   "outputs": [
    {
     "data": {
      "text/plain": [
       "'a b c'"
      ]
     },
     "execution_count": 29,
     "metadata": {},
     "output_type": "execute_result"
    }
   ],
   "source": [
    "# 2. Method\n",
    "\" \".join(\"a b c\".split())"
   ]
  },
  {
   "cell_type": "code",
   "execution_count": 28,
   "metadata": {},
   "outputs": [
    {
     "data": {
      "text/plain": [
       "['abc']"
      ]
     },
     "execution_count": 28,
     "metadata": {},
     "output_type": "execute_result"
    }
   ],
   "source": [
    "\"abc\".split()"
   ]
  },
  {
   "cell_type": "code",
   "execution_count": 27,
   "metadata": {},
   "outputs": [
    {
     "data": {
      "text/plain": [
       "['a', 'b', 'c']"
      ]
     },
     "execution_count": 27,
     "metadata": {},
     "output_type": "execute_result"
    }
   ],
   "source": [
    "\"a b c\".split()"
   ]
  },
  {
   "cell_type": "code",
   "execution_count": 30,
   "metadata": {},
   "outputs": [],
   "source": [
    "#Tuples are immutable, lists are not"
   ]
  },
  {
   "cell_type": "code",
   "execution_count": 31,
   "metadata": {},
   "outputs": [
    {
     "data": {
      "text/plain": [
       "25"
      ]
     },
     "execution_count": 31,
     "metadata": {},
     "output_type": "execute_result"
    }
   ],
   "source": [
    "x = 5\n",
    "\n",
    "# Conditional expression (ternary operator)\n",
    "x**2 if x > 4 else x\n",
    "# Requires else statement"
   ]
  },
  {
   "cell_type": "code",
   "execution_count": 33,
   "metadata": {},
   "outputs": [
    {
     "name": "stdout",
     "output_type": "stream",
     "text": [
      "25\n"
     ]
    }
   ],
   "source": [
    "# Conditional statement\n",
    "if x > 4:\n",
    "    print(x**2)\n",
    "else:\n",
    "    print(x)\n",
    "# Does not require else"
   ]
  },
  {
   "cell_type": "code",
   "execution_count": 34,
   "metadata": {},
   "outputs": [
    {
     "data": {
      "text/plain": [
       "[0, 1, 2, 3, 4, 5, 6, 7, 8]"
      ]
     },
     "execution_count": 34,
     "metadata": {},
     "output_type": "execute_result"
    }
   ],
   "source": [
    "[x for x in range(9)]"
   ]
  },
  {
   "cell_type": "code",
   "execution_count": 35,
   "metadata": {},
   "outputs": [
    {
     "name": "stdout",
     "output_type": "stream",
     "text": [
      "[0, 2, 4, 6, 8]\n"
     ]
    }
   ],
   "source": [
    "single_digit_even_numbers = [\n",
    "    # what you want\n",
    "    x\n",
    "    # how you iterate to get it (for clause)\n",
    "    for x in range(9)\n",
    "    # how you remove what you don't want (if clause)\n",
    "    if x % 2 == 0\n",
    "]\n",
    "print(single_digit_even_numbers)"
   ]
  },
  {
   "cell_type": "code",
   "execution_count": 37,
   "metadata": {},
   "outputs": [
    {
     "data": {
      "text/plain": [
       "[0, 2, 4, 36, 64]"
      ]
     },
     "execution_count": 37,
     "metadata": {},
     "output_type": "execute_result"
    }
   ],
   "source": [
    "# Use list comprehensions instead of map (a builtin function)\n",
    "large_even_squares_or_small_even_numbers = [\n",
    "    # what you want (can use ternary operator)\n",
    "    x**2 if x > 4 else x\n",
    "    # how you iterate to get it\n",
    "    for x in range(9)\n",
    "    # how you remove what you don't want\n",
    "    if x**2 % 2 == 0\n",
    "]\n",
    "large_even_squares_or_small_even_numbers"
   ]
  },
  {
   "cell_type": "code",
   "execution_count": 38,
   "metadata": {},
   "outputs": [],
   "source": [
    "# Uses of if keywords: \n",
    "# conditional expression (ternary operator)\n",
    "# conditional statement (if statement)\n",
    "# if clause (inside a comprehension)"
   ]
  },
  {
   "cell_type": "code",
   "execution_count": 40,
   "metadata": {},
   "outputs": [],
   "source": [
    "#Parts of a list comprehension:\n",
    "# 1. expression (what you want)\n",
    "# 2. For clause (for... in...)\n",
    "#    -need at least one\n",
    "#    -can have as many as you want\n",
    "#    -can have unlimited number of if clauses beneath it\n",
    "# 3. If clause (if 'condition')\n",
    "#    -optional\n",
    "#    -can have as many as you want, per for clause"
   ]
  },
  {
   "cell_type": "code",
   "execution_count": 41,
   "metadata": {},
   "outputs": [],
   "source": [
    "# Use a list comprehension inside a function\n",
    "def sum_small_even_squares(start, stop, maximum):\n",
    "    return sum(\n",
    "        x**2\n",
    "        for x in range(start, stop)\n",
    "        if x**2 < maximum\n",
    "        and x**2 % 2 == 0\n",
    "    )"
   ]
  },
  {
   "cell_type": "code",
   "execution_count": 42,
   "metadata": {},
   "outputs": [
    {
     "ename": "SyntaxError",
     "evalue": "invalid syntax (<ipython-input-42-9219a9baa597>, line 8)",
     "output_type": "error",
     "traceback": [
      "\u001b[0;36m  File \u001b[0;32m\"<ipython-input-42-9219a9baa597>\"\u001b[0;36m, line \u001b[0;32m8\u001b[0m\n\u001b[0;31m    if (square := x**2) < maximum\u001b[0m\n\u001b[0m               ^\u001b[0m\n\u001b[0;31mSyntaxError\u001b[0m\u001b[0;31m:\u001b[0m invalid syntax\n"
     ]
    }
   ],
   "source": [
    "# Use an assignment expression (python >= 3.8 only),\n",
    "# also known as the walrus operator,\n",
    "# to avoid calculating x**2 three times\n",
    "def sum_small_even_squares(start, stop, maximum):\n",
    "    return sum(\n",
    "        square\n",
    "        for x in range(start, stop)\n",
    "        if (square := x**2) < maximum\n",
    "        and square % 2 == 0\n",
    "    )\n",
    "\n",
    "sum_small_even_squares(0, 9, 20)\n",
    "\n",
    "# args\n",
    "def multiply(*args):\n",
    "    product = 1\n",
    "    for num in args:\n",
    "        product *= num\n",
    "    print(product)\n",
    "\n",
    "multiply(4, 5, 6) # Prints 120!\n",
    "\n",
    "# You can do the same with np.prod\n",
    "import numpy as np\n",
    "np.prod(4, 5, 6)\n",
    "# or with math.prod (python >= 3.8 only)\n",
    "import math\n",
    "math.prod(4, 5, 6)\n",
    "\n",
    "def abs_mult(*args, absolute=True):\n",
    "    #absolute = true as default\n",
    "    product = np.prod(args)\n",
    "    return abs(product) if absolute else product"
   ]
  },
  {
   "cell_type": "code",
   "execution_count": null,
   "metadata": {},
   "outputs": [],
   "source": []
  }
 ],
 "metadata": {
  "kernelspec": {
   "display_name": "Python 3",
   "language": "python",
   "name": "python3"
  },
  "language_info": {
   "codemirror_mode": {
    "name": "ipython",
    "version": 3
   },
   "file_extension": ".py",
   "mimetype": "text/x-python",
   "name": "python",
   "nbconvert_exporter": "python",
   "pygments_lexer": "ipython3",
   "version": "3.7.4"
  }
 },
 "nbformat": 4,
 "nbformat_minor": 4
}
